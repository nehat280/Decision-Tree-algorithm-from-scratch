{
 "cells": [
  {
   "cell_type": "code",
   "execution_count": 7,
   "metadata": {},
   "outputs": [],
   "source": [
    "import pandas as pd\n",
    "import numpy as np\n",
    "import matplotlib.pyplot as plt\n",
    "import seaborn as sns\n",
    "%matplotlib inline\n",
    "import random \n",
    "from pprint import pprint"
   ]
  },
  {
   "cell_type": "code",
   "execution_count": 103,
   "metadata": {},
   "outputs": [
    {
     "data": {
      "text/html": [
       "<div>\n",
       "<style scoped>\n",
       "    .dataframe tbody tr th:only-of-type {\n",
       "        vertical-align: middle;\n",
       "    }\n",
       "\n",
       "    .dataframe tbody tr th {\n",
       "        vertical-align: top;\n",
       "    }\n",
       "\n",
       "    .dataframe thead th {\n",
       "        text-align: right;\n",
       "    }\n",
       "</style>\n",
       "<table border=\"1\" class=\"dataframe\">\n",
       "  <thead>\n",
       "    <tr style=\"text-align: right;\">\n",
       "      <th></th>\n",
       "      <th>sepal_length</th>\n",
       "      <th>sepal_width</th>\n",
       "      <th>petal_length</th>\n",
       "      <th>petal_width</th>\n",
       "      <th>label</th>\n",
       "    </tr>\n",
       "  </thead>\n",
       "  <tbody>\n",
       "    <tr>\n",
       "      <th>0</th>\n",
       "      <td>5.1</td>\n",
       "      <td>3.5</td>\n",
       "      <td>1.4</td>\n",
       "      <td>0.2</td>\n",
       "      <td>setosa</td>\n",
       "    </tr>\n",
       "    <tr>\n",
       "      <th>1</th>\n",
       "      <td>4.9</td>\n",
       "      <td>3.0</td>\n",
       "      <td>1.4</td>\n",
       "      <td>0.2</td>\n",
       "      <td>setosa</td>\n",
       "    </tr>\n",
       "    <tr>\n",
       "      <th>2</th>\n",
       "      <td>4.7</td>\n",
       "      <td>3.2</td>\n",
       "      <td>1.3</td>\n",
       "      <td>0.2</td>\n",
       "      <td>setosa</td>\n",
       "    </tr>\n",
       "    <tr>\n",
       "      <th>3</th>\n",
       "      <td>4.6</td>\n",
       "      <td>3.1</td>\n",
       "      <td>1.5</td>\n",
       "      <td>0.2</td>\n",
       "      <td>setosa</td>\n",
       "    </tr>\n",
       "    <tr>\n",
       "      <th>4</th>\n",
       "      <td>5.0</td>\n",
       "      <td>3.6</td>\n",
       "      <td>1.4</td>\n",
       "      <td>0.2</td>\n",
       "      <td>setosa</td>\n",
       "    </tr>\n",
       "  </tbody>\n",
       "</table>\n",
       "</div>"
      ],
      "text/plain": [
       "   sepal_length  sepal_width  petal_length  petal_width   label\n",
       "0           5.1          3.5           1.4          0.2  setosa\n",
       "1           4.9          3.0           1.4          0.2  setosa\n",
       "2           4.7          3.2           1.3          0.2  setosa\n",
       "3           4.6          3.1           1.5          0.2  setosa\n",
       "4           5.0          3.6           1.4          0.2  setosa"
      ]
     },
     "execution_count": 103,
     "metadata": {},
     "output_type": "execute_result"
    }
   ],
   "source": [
    "df=pd.read_csv('iris.csv')\n",
    "\n",
    "df=df.rename(columns={\"species\":\"label\"})\n",
    "df.head()"
   ]
  },
  {
   "cell_type": "code",
   "execution_count": 104,
   "metadata": {},
   "outputs": [
    {
     "name": "stdout",
     "output_type": "stream",
     "text": [
      "<class 'pandas.core.frame.DataFrame'>\n",
      "RangeIndex: 150 entries, 0 to 149\n",
      "Data columns (total 5 columns):\n",
      " #   Column        Non-Null Count  Dtype  \n",
      "---  ------        --------------  -----  \n",
      " 0   sepal_length  150 non-null    float64\n",
      " 1   sepal_width   150 non-null    float64\n",
      " 2   petal_length  150 non-null    float64\n",
      " 3   petal_width   150 non-null    float64\n",
      " 4   label         150 non-null    object \n",
      "dtypes: float64(4), object(1)\n",
      "memory usage: 6.0+ KB\n"
     ]
    }
   ],
   "source": [
    "df.info()  # to check if null is present "
   ]
  },
  {
   "cell_type": "markdown",
   "metadata": {},
   "source": [
    "# Train-Test-Split"
   ]
  },
  {
   "cell_type": "code",
   "execution_count": 105,
   "metadata": {},
   "outputs": [],
   "source": [
    "def train_test_split(df,test_size):\n",
    "    ## to check if test_size is passed as proportion or a number\n",
    "    if isinstance(test_size, float):\n",
    "        test_size = round(len(df)*test_size) \n",
    "    ##\n",
    "    indices=df.index.tolist()\n",
    "    test_indices=random.sample(population=indices, k=test_size)\n",
    "\n",
    "    test_df = df.loc[test_indices]\n",
    "    train_df = df.drop(test_indices)\n",
    "    \n",
    "    return train_df,test_df"
   ]
  },
  {
   "cell_type": "code",
   "execution_count": 106,
   "metadata": {},
   "outputs": [
    {
     "name": "stdout",
     "output_type": "stream",
     "text": [
      "     sepal_length  sepal_width  petal_length  petal_width       label\n",
      "98            5.1          2.5           3.0          1.1  versicolor\n",
      "107           7.3          2.9           6.3          1.8   virginica\n",
      "10            5.4          3.7           1.5          0.2      setosa\n",
      "66            5.6          3.0           4.5          1.5  versicolor\n",
      "130           7.4          2.8           6.1          1.9   virginica\n",
      "124           6.7          3.3           5.7          2.1   virginica\n",
      "103           6.3          2.9           5.6          1.8   virginica\n",
      "77            6.7          3.0           5.0          1.7  versicolor\n",
      "122           7.7          2.8           6.7          2.0   virginica\n",
      "91            6.1          3.0           4.6          1.4  versicolor\n",
      "149           5.9          3.0           5.1          1.8   virginica\n",
      "55            5.7          2.8           4.5          1.3  versicolor\n",
      "129           7.2          3.0           5.8          1.6   virginica\n",
      "35            5.0          3.2           1.2          0.2      setosa\n",
      "72            6.3          2.5           4.9          1.5  versicolor\n",
      "24            4.8          3.4           1.9          0.2      setosa\n",
      "64            5.6          2.9           3.6          1.3  versicolor\n",
      "136           6.3          3.4           5.6          2.4   virginica\n",
      "37            4.9          3.1           1.5          0.1      setosa\n",
      "79            5.7          2.6           3.5          1.0  versicolor\n"
     ]
    }
   ],
   "source": [
    "random.seed(0)\n",
    "train_df, test_df = train_test_split(df , test_size=20)\n",
    "print(test_df)"
   ]
  },
  {
   "cell_type": "markdown",
   "metadata": {},
   "source": [
    "# Helper functions"
   ]
  },
  {
   "cell_type": "code",
   "execution_count": 107,
   "metadata": {},
   "outputs": [],
   "source": [
    "data = df.values"
   ]
  },
  {
   "cell_type": "markdown",
   "metadata": {},
   "source": [
    "# data Pure?"
   ]
  },
  {
   "cell_type": "code",
   "execution_count": 53,
   "metadata": {},
   "outputs": [],
   "source": [
    "def check_purity( data ):\n",
    "    label_column = data[:,-1]\n",
    "    unique_classes = np.unique(label_column)\n",
    "    if len(unique_classes) == 1:\n",
    "        return True\n",
    "    else:\n",
    "        return False"
   ]
  },
  {
   "cell_type": "code",
   "execution_count": 91,
   "metadata": {},
   "outputs": [
    {
     "data": {
      "text/plain": [
       "True"
      ]
     },
     "execution_count": 91,
     "metadata": {},
     "output_type": "execute_result"
    }
   ],
   "source": [
    "#check_purity(train_df[train_df.petal_width <0.8].values)"
   ]
  },
  {
   "cell_type": "code",
   "execution_count": 98,
   "metadata": {},
   "outputs": [
    {
     "data": {
      "text/plain": [
       "array([6.2, 3.4, 5.4, 2.3, 'virginica'], dtype=object)"
      ]
     },
     "execution_count": 98,
     "metadata": {},
     "output_type": "execute_result"
    }
   ],
   "source": [
    "#train_df[train_df. petal_width > 0.8].values[-1]  # function will take only the last column in label_column"
   ]
  },
  {
   "cell_type": "markdown",
   "metadata": {},
   "source": [
    "## Create Leaf"
   ]
  },
  {
   "cell_type": "code",
   "execution_count": 54,
   "metadata": {},
   "outputs": [],
   "source": [
    "def create_leaf(data, ml_task):  # retrurn the class of label by taking np dataset\n",
    "    label_column = data[:,-1]\n",
    "    if ml_task == \"regression\":\n",
    "        leaf = np.mean(label_column)\n",
    "        \n",
    "    else:     # classification\n",
    "        # here we have to incluse 2 functionalities\n",
    "        # if datapoints are less than 5 points then return the class that appears most often\n",
    "        # if labels within dataset is pure return leaf node\n",
    "        unique_classes, count_unique_classes = np.unique(label_column, return_counts=True)\n",
    "        index = count_unique_classes.argmax()\n",
    "        leaf = unique_classes[index]\n",
    "    return leaf\n"
   ]
  },
  {
   "cell_type": "code",
   "execution_count": 16,
   "metadata": {},
   "outputs": [
    {
     "data": {
      "text/plain": [
       "4504.3488372093025"
      ]
     },
     "execution_count": 16,
     "metadata": {},
     "output_type": "execute_result"
    }
   ],
   "source": [
    "create_leaf(data, ml_task=\"regression\")"
   ]
  },
  {
   "cell_type": "code",
   "execution_count": 121,
   "metadata": {},
   "outputs": [
    {
     "data": {
      "text/plain": [
       "'versicolor'"
      ]
     },
     "execution_count": 121,
     "metadata": {},
     "output_type": "execute_result"
    }
   ],
   "source": [
    "#classify_data(train_df[(train_df.petal_width >0.8) & (train_df.petal_width < 2) ].values)"
   ]
  },
  {
   "cell_type": "markdown",
   "metadata": {},
   "source": [
    "# Potential splits"
   ]
  },
  {
   "cell_type": "code",
   "execution_count": 55,
   "metadata": {},
   "outputs": [],
   "source": [
    "def get_potential_splits(data):\n",
    "    potential_splits={}\n",
    "    _, n_columns = data.shape\n",
    "    for column_index in range(n_columns - 1):\n",
    "        potential_splits[column_index] = [] \n",
    "        values = data[: , column_index]\n",
    "        unique_values = np.unique(values)\n",
    "        potential_splits[column_index] = unique_values\n",
    "    return potential_splits"
   ]
  },
  {
   "cell_type": "code",
   "execution_count": 140,
   "metadata": {},
   "outputs": [
    {
     "data": {
      "text/plain": [
       "{0: array([1, 2, 3], dtype=object),\n",
       " 1: array(['female', 'male'], dtype=object),\n",
       " 2: [0.545,\n",
       "  0.71,\n",
       "  0.79,\n",
       "  0.875,\n",
       "  0.96,\n",
       "  1.5,\n",
       "  2.5,\n",
       "  3.5,\n",
       "  4.5,\n",
       "  5.5,\n",
       "  6.5,\n",
       "  7.5,\n",
       "  8.5,\n",
       "  9.5,\n",
       "  10.5,\n",
       "  11.5,\n",
       "  12.5,\n",
       "  13.5,\n",
       "  14.25,\n",
       "  14.75,\n",
       "  15.5,\n",
       "  16.5,\n",
       "  17.5,\n",
       "  18.5,\n",
       "  19.5,\n",
       "  20.25,\n",
       "  20.75,\n",
       "  21.5,\n",
       "  22.5,\n",
       "  23.25,\n",
       "  23.75,\n",
       "  24.25,\n",
       "  24.75,\n",
       "  25.5,\n",
       "  26.5,\n",
       "  27.5,\n",
       "  28.25,\n",
       "  28.75,\n",
       "  29.5,\n",
       "  30.25,\n",
       "  30.75,\n",
       "  31.5,\n",
       "  32.25,\n",
       "  32.75,\n",
       "  33.5,\n",
       "  34.25,\n",
       "  34.75,\n",
       "  35.5,\n",
       "  36.25,\n",
       "  36.75,\n",
       "  37.5,\n",
       "  38.5,\n",
       "  39.5,\n",
       "  40.25,\n",
       "  40.75,\n",
       "  41.5,\n",
       "  42.5,\n",
       "  43.5,\n",
       "  44.5,\n",
       "  45.25,\n",
       "  45.75,\n",
       "  46.5,\n",
       "  47.5,\n",
       "  48.5,\n",
       "  49.5,\n",
       "  50.5,\n",
       "  51.5,\n",
       "  52.5,\n",
       "  53.5,\n",
       "  54.5,\n",
       "  55.25,\n",
       "  55.75,\n",
       "  56.5,\n",
       "  57.5,\n",
       "  58.5,\n",
       "  59.5,\n",
       "  60.5,\n",
       "  61.5,\n",
       "  62.5,\n",
       "  63.5,\n",
       "  64.5,\n",
       "  67.5,\n",
       "  70.25,\n",
       "  70.75,\n",
       "  72.5,\n",
       "  77.0],\n",
       " 3: array([0, 1, 2, 3, 4, 5, 8], dtype=object),\n",
       " 4: array([0, 1, 2, 3, 4, 5, 6], dtype=object),\n",
       " 5: [2.00625,\n",
       "  4.50625,\n",
       "  5.61875,\n",
       "  6.3375,\n",
       "  6.46665,\n",
       "  6.6229,\n",
       "  6.80415,\n",
       "  6.90415,\n",
       "  6.9625,\n",
       "  7.0104,\n",
       "  7.0479,\n",
       "  7.052099999999999,\n",
       "  7.0896,\n",
       "  7.13335,\n",
       "  7.18335,\n",
       "  7.2271,\n",
       "  7.239599999999999,\n",
       "  7.28125,\n",
       "  7.40415,\n",
       "  7.5083,\n",
       "  7.5354,\n",
       "  7.5896,\n",
       "  7.6396,\n",
       "  7.6875,\n",
       "  7.7271,\n",
       "  7.731249999999999,\n",
       "  7.7354,\n",
       "  7.739599999999999,\n",
       "  7.74585,\n",
       "  7.7625,\n",
       "  7.78125,\n",
       "  7.79165,\n",
       "  7.7979,\n",
       "  7.8146,\n",
       "  7.8416999999999994,\n",
       "  7.864599999999999,\n",
       "  7.8771,\n",
       "  7.88335,\n",
       "  7.89165,\n",
       "  7.9104,\n",
       "  7.9771,\n",
       "  8.0396,\n",
       "  8.08125,\n",
       "  8.125,\n",
       "  8.1479,\n",
       "  8.22915,\n",
       "  8.33125,\n",
       "  8.38335,\n",
       "  8.41875,\n",
       "  8.445799999999998,\n",
       "  8.4875,\n",
       "  8.58545,\n",
       "  8.658349999999999,\n",
       "  8.672899999999998,\n",
       "  8.6979,\n",
       "  8.78125,\n",
       "  8.925,\n",
       "  9.10835,\n",
       "  9.220849999999999,\n",
       "  9.2875,\n",
       "  9.4125,\n",
       "  9.47915,\n",
       "  9.49165,\n",
       "  9.54375,\n",
       "  9.70625,\n",
       "  9.83125,\n",
       "  9.8396,\n",
       "  9.84375,\n",
       "  10.0083,\n",
       "  10.31665,\n",
       "  10.48125,\n",
       "  10.50835,\n",
       "  10.825,\n",
       "  11.1875,\n",
       "  11.37085,\n",
       "  11.75,\n",
       "  12.1375,\n",
       "  12.28125,\n",
       "  12.31875,\n",
       "  12.4125,\n",
       "  12.5,\n",
       "  12.5875,\n",
       "  12.7625,\n",
       "  12.9375,\n",
       "  13.20835,\n",
       "  13.45835,\n",
       "  13.64585,\n",
       "  13.825,\n",
       "  13.8604,\n",
       "  13.93125,\n",
       "  14.05415,\n",
       "  14.25415,\n",
       "  14.4271,\n",
       "  14.45625,\n",
       "  14.47915,\n",
       "  14.75,\n",
       "  15.0229,\n",
       "  15.0479,\n",
       "  15.075,\n",
       "  15.172899999999998,\n",
       "  15.3729,\n",
       "  15.525,\n",
       "  15.64585,\n",
       "  15.74585,\n",
       "  15.8,\n",
       "  15.875,\n",
       "  15.95,\n",
       "  16.05,\n",
       "  16.4,\n",
       "  17.049999999999997,\n",
       "  17.6,\n",
       "  17.9,\n",
       "  18.375,\n",
       "  18.76875,\n",
       "  19.0229,\n",
       "  19.37915,\n",
       "  19.73335,\n",
       "  20.089599999999997,\n",
       "  20.23125,\n",
       "  20.3875,\n",
       "  20.549999999999997,\n",
       "  20.7875,\n",
       "  21.0375,\n",
       "  21.3771,\n",
       "  21.8521,\n",
       "  22.19165,\n",
       "  22.44165,\n",
       "  22.7625,\n",
       "  23.125,\n",
       "  23.35,\n",
       "  23.725,\n",
       "  24.075,\n",
       "  24.808349999999997,\n",
       "  25.527099999999997,\n",
       "  25.75625,\n",
       "  25.927100000000003,\n",
       "  25.9646,\n",
       "  26.125,\n",
       "  26.26665,\n",
       "  26.285400000000003,\n",
       "  26.3375,\n",
       "  26.46875,\n",
       "  26.775,\n",
       "  27.3604,\n",
       "  27.7354,\n",
       "  27.825,\n",
       "  28.2,\n",
       "  28.60625,\n",
       "  28.85625,\n",
       "  29.0625,\n",
       "  29.4125,\n",
       "  29.85,\n",
       "  30.0354,\n",
       "  30.2854,\n",
       "  30.5979,\n",
       "  30.8479,\n",
       "  31.1375,\n",
       "  31.331249999999997,\n",
       "  31.854149999999997,\n",
       "  32.410399999999996,\n",
       "  32.75,\n",
       "  33.25,\n",
       "  33.760400000000004,\n",
       "  34.197900000000004,\n",
       "  34.5146,\n",
       "  34.8271,\n",
       "  35.25,\n",
       "  36.125,\n",
       "  36.8771,\n",
       "  37.7521,\n",
       "  38.75,\n",
       "  39.2,\n",
       "  39.5,\n",
       "  39.64375,\n",
       "  39.90625,\n",
       "  40.8521,\n",
       "  41.989599999999996,\n",
       "  44.65,\n",
       "  47.0,\n",
       "  48.3,\n",
       "  49.5021,\n",
       "  49.7521,\n",
       "  50.2479,\n",
       "  50.9875,\n",
       "  51.67085,\n",
       "  51.93125,\n",
       "  52.277100000000004,\n",
       "  52.8271,\n",
       "  54.05,\n",
       "  55.22085,\n",
       "  55.67085,\n",
       "  56.197900000000004,\n",
       "  56.712500000000006,\n",
       "  56.964600000000004,\n",
       "  57.489599999999996,\n",
       "  58.6896,\n",
       "  60.287499999999994,\n",
       "  61.2771,\n",
       "  61.679199999999994,\n",
       "  62.66875,\n",
       "  64.17914999999999,\n",
       "  65.8,\n",
       "  67.94999999999999,\n",
       "  69.425,\n",
       "  70.275,\n",
       "  71.14165,\n",
       "  72.39165,\n",
       "  74.375,\n",
       "  75.77085,\n",
       "  76.51045,\n",
       "  77.00835000000001,\n",
       "  77.62289999999999,\n",
       "  78.1125,\n",
       "  78.55834999999999,\n",
       "  79.025,\n",
       "  79.42500000000001,\n",
       "  79.825,\n",
       "  80.92914999999999,\n",
       "  82.01455,\n",
       "  82.66454999999999,\n",
       "  83.31665,\n",
       "  84.9875,\n",
       "  87.8021,\n",
       "  89.5521,\n",
       "  90.53960000000001,\n",
       "  92.28960000000001,\n",
       "  99.9625,\n",
       "  107.6625,\n",
       "  109.89165,\n",
       "  112.07915,\n",
       "  116.6375,\n",
       "  126.825,\n",
       "  134.075,\n",
       "  135.06664999999998,\n",
       "  141.07704999999999,\n",
       "  149.0354,\n",
       "  152.50625000000002,\n",
       "  159.1646,\n",
       "  188.1021,\n",
       "  211.41875,\n",
       "  216.6396,\n",
       "  224.65210000000002,\n",
       "  237.5229,\n",
       "  254.9479,\n",
       "  262.6875,\n",
       "  387.6646],\n",
       " 6: array(['C', 'Q', 'S'], dtype=object)}"
      ]
     },
     "execution_count": 140,
     "metadata": {},
     "output_type": "execute_result"
    }
   ],
   "source": [
    "potential_splits = get_potential_splits(train_df.values)\n",
    "potential_splits"
   ]
  },
  {
   "cell_type": "code",
   "execution_count": 26,
   "metadata": {},
   "outputs": [
    {
     "data": {
      "text/plain": [
       "<matplotlib.collections.LineCollection at 0x237fc5e1488>"
      ]
     },
     "execution_count": 26,
     "metadata": {},
     "output_type": "execute_result"
    },
    {
     "data": {
      "image/png": "[encoded data removed]",
      "text/plain": [
       "<Figure size 732.75x432 with 1 Axes>"
      ]
     },
     "metadata": {
      "needs_background": "light"
     },
     "output_type": "display_data"
    }
   ],
   "source": [
    "sns.lmplot(data= train_df, x=\"petal_width\", y=\"petal_length\",hue=\"label\", aspect=1.5, fit_reg=False , height=6)\n",
    "plt.vlines(x=potential_splits[3], ymin=1 , ymax=7)\n",
    "#plt.hlines(y=potential_splits[2], xmin=0.0, xmax=2.5)"
   ]
  },
  {
   "cell_type": "markdown",
   "metadata": {},
   "source": [
    "## Split data"
   ]
  },
  {
   "cell_type": "code",
   "execution_count": 56,
   "metadata": {},
   "outputs": [],
   "source": [
    "def split_data(data, split_column , split_value):\n",
    "    split_column_values=data[:, split_column]\n",
    "    \n",
    "    type_of_feature = FEATURE_TYPES[split_column]\n",
    "    if type_of_feature == \"continuous\":\n",
    "        data_below = data[split_column_values<= split_value]\n",
    "        data_above= data[split_column_values >split_value]\n",
    "    else:\n",
    "        data_below = data[split_column_values == split_value]\n",
    "        data_above= data[split_column_values  != split_value]\n",
    "        \n",
    "    return data_below, data_above"
   ]
  },
  {
   "cell_type": "code",
   "execution_count": 93,
   "metadata": {},
   "outputs": [],
   "source": [
    "split_column=3\n",
    "split_value=0.8"
   ]
  },
  {
   "cell_type": "code",
   "execution_count": 94,
   "metadata": {},
   "outputs": [
    {
     "data": {
      "text/plain": [
       "array([], shape=(0, 5), dtype=object)"
      ]
     },
     "execution_count": 94,
     "metadata": {},
     "output_type": "execute_result"
    }
   ],
   "source": [
    "data_below, data_above = split_data(data, split_column, split_value)\n",
    "data_below"
   ]
  },
  {
   "cell_type": "code",
   "execution_count": 95,
   "metadata": {},
   "outputs": [
    {
     "ename": "AssertionError",
     "evalue": "Number of manager items must equal union of block items\n# manager items: 8, # tot_items: 5",
     "output_type": "error",
     "traceback": [
      "\u001b[1;31m---------------------------------------------------------------------------\u001b[0m",
      "\u001b[1;31mAssertionError\u001b[0m                            Traceback (most recent call last)",
      "\u001b[1;32m<ipython-input-95-28e8cd5b0620>\u001b[0m in \u001b[0;36m<module>\u001b[1;34m\u001b[0m\n\u001b[1;32m----> 1\u001b[1;33m \u001b[0mplotting_values\u001b[0m \u001b[1;33m=\u001b[0m \u001b[0mpd\u001b[0m\u001b[1;33m.\u001b[0m\u001b[0mDataFrame\u001b[0m\u001b[1;33m(\u001b[0m\u001b[0mdata_below\u001b[0m\u001b[1;33m,\u001b[0m\u001b[0mcolumns\u001b[0m\u001b[1;33m=\u001b[0m\u001b[0mdf\u001b[0m\u001b[1;33m.\u001b[0m\u001b[0mcolumns\u001b[0m\u001b[1;33m)\u001b[0m\u001b[1;33m\u001b[0m\u001b[1;33m\u001b[0m\u001b[0m\n\u001b[0m\u001b[0;32m      2\u001b[0m \u001b[0msns\u001b[0m\u001b[1;33m.\u001b[0m\u001b[0mlmplot\u001b[0m\u001b[1;33m(\u001b[0m\u001b[0mdata\u001b[0m\u001b[1;33m=\u001b[0m \u001b[0mplotting_values\u001b[0m\u001b[1;33m,\u001b[0m \u001b[0mx\u001b[0m\u001b[1;33m=\u001b[0m\u001b[1;34m\"petal_width\"\u001b[0m \u001b[1;33m,\u001b[0m\u001b[0my\u001b[0m\u001b[1;33m=\u001b[0m\u001b[1;34m\"petal_length\"\u001b[0m\u001b[1;33m,\u001b[0m \u001b[0mfit_reg\u001b[0m\u001b[1;33m=\u001b[0m\u001b[1;32mFalse\u001b[0m\u001b[1;33m,\u001b[0m \u001b[0mheight\u001b[0m\u001b[1;33m=\u001b[0m\u001b[1;36m6\u001b[0m\u001b[1;33m,\u001b[0m \u001b[0maspect\u001b[0m\u001b[1;33m=\u001b[0m\u001b[1;36m1.5\u001b[0m\u001b[1;33m)\u001b[0m\u001b[1;33m\u001b[0m\u001b[1;33m\u001b[0m\u001b[0m\n\u001b[0;32m      3\u001b[0m \u001b[0mplt\u001b[0m\u001b[1;33m.\u001b[0m\u001b[0mvlines\u001b[0m\u001b[1;33m(\u001b[0m\u001b[0mx\u001b[0m\u001b[1;33m=\u001b[0m\u001b[0msplit_value\u001b[0m\u001b[1;33m,\u001b[0m \u001b[0mymin\u001b[0m\u001b[1;33m=\u001b[0m\u001b[1;36m1.0\u001b[0m\u001b[1;33m,\u001b[0m \u001b[0mymax\u001b[0m\u001b[1;33m=\u001b[0m\u001b[1;36m7\u001b[0m\u001b[1;33m)\u001b[0m\u001b[1;33m\u001b[0m\u001b[1;33m\u001b[0m\u001b[0m\n\u001b[0;32m      4\u001b[0m \u001b[0mplt\u001b[0m\u001b[1;33m.\u001b[0m\u001b[0mxlim\u001b[0m\u001b[1;33m(\u001b[0m\u001b[1;36m0\u001b[0m\u001b[1;33m,\u001b[0m \u001b[1;36m2.6\u001b[0m\u001b[1;33m)\u001b[0m\u001b[1;33m\u001b[0m\u001b[1;33m\u001b[0m\u001b[0m\n",
      "\u001b[1;32m~\\Anaconda3\\lib\\site-packages\\pandas\\core\\frame.py\u001b[0m in \u001b[0;36m__init__\u001b[1;34m(self, data, index, columns, dtype, copy)\u001b[0m\n\u001b[0;32m    462\u001b[0m                 \u001b[0mmgr\u001b[0m \u001b[1;33m=\u001b[0m \u001b[0minit_dict\u001b[0m\u001b[1;33m(\u001b[0m\u001b[1;33m{\u001b[0m\u001b[0mdata\u001b[0m\u001b[1;33m.\u001b[0m\u001b[0mname\u001b[0m\u001b[1;33m:\u001b[0m \u001b[0mdata\u001b[0m\u001b[1;33m}\u001b[0m\u001b[1;33m,\u001b[0m \u001b[0mindex\u001b[0m\u001b[1;33m,\u001b[0m \u001b[0mcolumns\u001b[0m\u001b[1;33m,\u001b[0m \u001b[0mdtype\u001b[0m\u001b[1;33m=\u001b[0m\u001b[0mdtype\u001b[0m\u001b[1;33m)\u001b[0m\u001b[1;33m\u001b[0m\u001b[1;33m\u001b[0m\u001b[0m\n\u001b[0;32m    463\u001b[0m             \u001b[1;32melse\u001b[0m\u001b[1;33m:\u001b[0m\u001b[1;33m\u001b[0m\u001b[1;33m\u001b[0m\u001b[0m\n\u001b[1;32m--> 464\u001b[1;33m                 \u001b[0mmgr\u001b[0m \u001b[1;33m=\u001b[0m \u001b[0minit_ndarray\u001b[0m\u001b[1;33m(\u001b[0m\u001b[0mdata\u001b[0m\u001b[1;33m,\u001b[0m \u001b[0mindex\u001b[0m\u001b[1;33m,\u001b[0m \u001b[0mcolumns\u001b[0m\u001b[1;33m,\u001b[0m \u001b[0mdtype\u001b[0m\u001b[1;33m=\u001b[0m\u001b[0mdtype\u001b[0m\u001b[1;33m,\u001b[0m \u001b[0mcopy\u001b[0m\u001b[1;33m=\u001b[0m\u001b[0mcopy\u001b[0m\u001b[1;33m)\u001b[0m\u001b[1;33m\u001b[0m\u001b[1;33m\u001b[0m\u001b[0m\n\u001b[0m\u001b[0;32m    465\u001b[0m \u001b[1;33m\u001b[0m\u001b[0m\n\u001b[0;32m    466\u001b[0m         \u001b[1;31m# For data is list-like, or Iterable (will consume into list)\u001b[0m\u001b[1;33m\u001b[0m\u001b[1;33m\u001b[0m\u001b[1;33m\u001b[0m\u001b[0m\n",
      "\u001b[1;32m~\\Anaconda3\\lib\\site-packages\\pandas\\core\\internals\\construction.py\u001b[0m in \u001b[0;36minit_ndarray\u001b[1;34m(values, index, columns, dtype, copy)\u001b[0m\n\u001b[0;32m    208\u001b[0m         \u001b[0mblock_values\u001b[0m \u001b[1;33m=\u001b[0m \u001b[1;33m[\u001b[0m\u001b[0mvalues\u001b[0m\u001b[1;33m]\u001b[0m\u001b[1;33m\u001b[0m\u001b[1;33m\u001b[0m\u001b[0m\n\u001b[0;32m    209\u001b[0m \u001b[1;33m\u001b[0m\u001b[0m\n\u001b[1;32m--> 210\u001b[1;33m     \u001b[1;32mreturn\u001b[0m \u001b[0mcreate_block_manager_from_blocks\u001b[0m\u001b[1;33m(\u001b[0m\u001b[0mblock_values\u001b[0m\u001b[1;33m,\u001b[0m \u001b[1;33m[\u001b[0m\u001b[0mcolumns\u001b[0m\u001b[1;33m,\u001b[0m \u001b[0mindex\u001b[0m\u001b[1;33m]\u001b[0m\u001b[1;33m)\u001b[0m\u001b[1;33m\u001b[0m\u001b[1;33m\u001b[0m\u001b[0m\n\u001b[0m\u001b[0;32m    211\u001b[0m \u001b[1;33m\u001b[0m\u001b[0m\n\u001b[0;32m    212\u001b[0m \u001b[1;33m\u001b[0m\u001b[0m\n",
      "\u001b[1;32m~\\Anaconda3\\lib\\site-packages\\pandas\\core\\internals\\managers.py\u001b[0m in \u001b[0;36mcreate_block_manager_from_blocks\u001b[1;34m(blocks, axes)\u001b[0m\n\u001b[0;32m   1655\u001b[0m                 ]\n\u001b[0;32m   1656\u001b[0m \u001b[1;33m\u001b[0m\u001b[0m\n\u001b[1;32m-> 1657\u001b[1;33m         \u001b[0mmgr\u001b[0m \u001b[1;33m=\u001b[0m \u001b[0mBlockManager\u001b[0m\u001b[1;33m(\u001b[0m\u001b[0mblocks\u001b[0m\u001b[1;33m,\u001b[0m \u001b[0maxes\u001b[0m\u001b[1;33m)\u001b[0m\u001b[1;33m\u001b[0m\u001b[1;33m\u001b[0m\u001b[0m\n\u001b[0m\u001b[0;32m   1658\u001b[0m         \u001b[0mmgr\u001b[0m\u001b[1;33m.\u001b[0m\u001b[0m_consolidate_inplace\u001b[0m\u001b[1;33m(\u001b[0m\u001b[1;33m)\u001b[0m\u001b[1;33m\u001b[0m\u001b[1;33m\u001b[0m\u001b[0m\n\u001b[0;32m   1659\u001b[0m         \u001b[1;32mreturn\u001b[0m \u001b[0mmgr\u001b[0m\u001b[1;33m\u001b[0m\u001b[1;33m\u001b[0m\u001b[0m\n",
      "\u001b[1;32m~\\Anaconda3\\lib\\site-packages\\pandas\\core\\internals\\managers.py\u001b[0m in \u001b[0;36m__init__\u001b[1;34m(self, blocks, axes, do_integrity_check)\u001b[0m\n\u001b[0;32m    137\u001b[0m \u001b[1;33m\u001b[0m\u001b[0m\n\u001b[0;32m    138\u001b[0m         \u001b[1;32mif\u001b[0m \u001b[0mdo_integrity_check\u001b[0m\u001b[1;33m:\u001b[0m\u001b[1;33m\u001b[0m\u001b[1;33m\u001b[0m\u001b[0m\n\u001b[1;32m--> 139\u001b[1;33m             \u001b[0mself\u001b[0m\u001b[1;33m.\u001b[0m\u001b[0m_verify_integrity\u001b[0m\u001b[1;33m(\u001b[0m\u001b[1;33m)\u001b[0m\u001b[1;33m\u001b[0m\u001b[1;33m\u001b[0m\u001b[0m\n\u001b[0m\u001b[0;32m    140\u001b[0m \u001b[1;33m\u001b[0m\u001b[0m\n\u001b[0;32m    141\u001b[0m         \u001b[0mself\u001b[0m\u001b[1;33m.\u001b[0m\u001b[0m_consolidate_check\u001b[0m\u001b[1;33m(\u001b[0m\u001b[1;33m)\u001b[0m\u001b[1;33m\u001b[0m\u001b[1;33m\u001b[0m\u001b[0m\n",
      "\u001b[1;32m~\\Anaconda3\\lib\\site-packages\\pandas\\core\\internals\\managers.py\u001b[0m in \u001b[0;36m_verify_integrity\u001b[1;34m(self)\u001b[0m\n\u001b[0;32m    335\u001b[0m         \u001b[1;32mif\u001b[0m \u001b[0mlen\u001b[0m\u001b[1;33m(\u001b[0m\u001b[0mself\u001b[0m\u001b[1;33m.\u001b[0m\u001b[0mitems\u001b[0m\u001b[1;33m)\u001b[0m \u001b[1;33m!=\u001b[0m \u001b[0mtot_items\u001b[0m\u001b[1;33m:\u001b[0m\u001b[1;33m\u001b[0m\u001b[1;33m\u001b[0m\u001b[0m\n\u001b[0;32m    336\u001b[0m             raise AssertionError(\n\u001b[1;32m--> 337\u001b[1;33m                 \u001b[1;34m\"Number of manager items must equal union of \"\u001b[0m\u001b[1;33m\u001b[0m\u001b[1;33m\u001b[0m\u001b[0m\n\u001b[0m\u001b[0;32m    338\u001b[0m                 \u001b[1;34mf\"block items\\n# manager items: {len(self.items)}, # \"\u001b[0m\u001b[1;33m\u001b[0m\u001b[1;33m\u001b[0m\u001b[0m\n\u001b[0;32m    339\u001b[0m                 \u001b[1;34mf\"tot_items: {tot_items}\"\u001b[0m\u001b[1;33m\u001b[0m\u001b[1;33m\u001b[0m\u001b[0m\n",
      "\u001b[1;31mAssertionError\u001b[0m: Number of manager items must equal union of block items\n# manager items: 8, # tot_items: 5"
     ]
    }
   ],
   "source": [
    "plotting_values = pd.DataFrame(data_below,columns=df.columns)\n",
    "sns.lmplot(data= plotting_values, x=\"petal_width\" ,y=\"petal_length\", fit_reg=False, height=6, aspect=1.5)\n",
    "plt.vlines(x=split_value, ymin=1.0, ymax=7)\n",
    "plt.xlim(0, 2.6)"
   ]
  },
  {
   "cell_type": "code",
   "execution_count": 106,
   "metadata": {},
   "outputs": [
    {
     "name": "stdout",
     "output_type": "stream",
     "text": [
      "   Pclass     Sex   Age  SibSp  Parch     Fare Embarked  label\n",
      "0       3    male  22.0      1      0   7.2500        S      0\n",
      "1       1  female  38.0      1      0  71.2833        C      1\n",
      "2       3  female  26.0      0      0   7.9250        S      1\n",
      "3       1  female  35.0      1      0  53.1000        S      1\n",
      "4       3    male  35.0      0      0   8.0500        S      0\n"
     ]
    },
    {
     "data": {
      "text/plain": [
       "array(['female'], dtype=object)"
      ]
     },
     "execution_count": 106,
     "metadata": {},
     "output_type": "execute_result"
    }
   ],
   "source": [
    "## testing for categorical data\n",
    "print(df.head())\n",
    "data_below, data_above = split_data(train_df.values, split_column=1, split_value=\"male\")\n",
    "np.unique(data_above[:,1])"
   ]
  },
  {
   "cell_type": "markdown",
   "metadata": {},
   "source": [
    "## Determine best split"
   ]
  },
  {
   "cell_type": "code",
   "execution_count": 57,
   "metadata": {},
   "outputs": [],
   "source": [
    "def calculate_mse(data):\n",
    "    actual_values= label_column = data[:, -1]\n",
    "    if len(data)==0 :\n",
    "        mse = 0\n",
    "    else:\n",
    "        prediction = np.mean(actual_values)\n",
    "        mse = np.mean((actual_values - prediction)**2)\n",
    "    return mse"
   ]
  },
  {
   "cell_type": "code",
   "execution_count": 31,
   "metadata": {},
   "outputs": [
    {
     "data": {
      "text/plain": [
       "3747654.435084148"
      ]
     },
     "execution_count": 31,
     "metadata": {},
     "output_type": "execute_result"
    }
   ],
   "source": [
    "calculate_mse(data)"
   ]
  },
  {
   "cell_type": "code",
   "execution_count": 58,
   "metadata": {},
   "outputs": [],
   "source": [
    "def calculate_entropy(data):\n",
    "    label_column = data[:, -1]\n",
    "    _,counts = np.unique(label_column,return_counts=True)  # count is vector\n",
    "    \n",
    "    probabilities = counts/ counts.sum() # count is vector\n",
    "    entropy = sum(probabilities * -np.log2(probabilities))\n",
    "    return entropy"
   ]
  },
  {
   "cell_type": "code",
   "execution_count": 37,
   "metadata": {},
   "outputs": [],
   "source": [
    "#calculate_entropy(data_above)"
   ]
  },
  {
   "cell_type": "code",
   "execution_count": 59,
   "metadata": {},
   "outputs": [],
   "source": [
    "def calculate_overall_metric(data_below, data_above, metric_function):\n",
    "    n_data_points = len(data_below) + len(data_above)\n",
    "    p_data_below = len(data_below)/ n_data_points\n",
    "    p_data_above = len(data_above) / n_data_points\n",
    "    \n",
    "    overall_metric = (p_data_below * metric_function(data_below)) + (p_data_above * metric_function(data_above))\n",
    "    return overall_metric\n",
    " "
   ]
  },
  {
   "cell_type": "code",
   "execution_count": 43,
   "metadata": {},
   "outputs": [
    {
     "data": {
      "text/plain": [
       "9.417968362026324"
      ]
     },
     "execution_count": 43,
     "metadata": {},
     "output_type": "execute_result"
    }
   ],
   "source": [
    "calculate_overall_metric(data, data, metric_function=calculate_entropy)"
   ]
  },
  {
   "cell_type": "code",
   "execution_count": 44,
   "metadata": {},
   "outputs": [
    {
     "data": {
      "text/plain": [
       "3747654.435084148"
      ]
     },
     "execution_count": 44,
     "metadata": {},
     "output_type": "execute_result"
    }
   ],
   "source": [
    "calculate_overall_metric(data, data, metric_function=calculate_mse)"
   ]
  },
  {
   "cell_type": "code",
   "execution_count": 60,
   "metadata": {},
   "outputs": [],
   "source": [
    "def determine_best_split(data, potential_splits, ml_task):\n",
    "    first_iteration = True\n",
    "    \n",
    "    for column_index in potential_splits:\n",
    "        for value in potential_splits[column_index]:\n",
    "            \n",
    "            data_below, data_above = split_data( data, split_column=column_index, split_value=value)\n",
    "            if ml_task == \"regression\":\n",
    "                current_overall_metric = calculate_overall_metric(data_below, data_above,\n",
    "                                                                  metric_function = calculate_mse)\n",
    "            else:\n",
    "                current_overall_metric = calculate_overall_metric(data_below, data_above,\n",
    "                                                                  metric_function = calculate_entropy)\n",
    "                \n",
    "            if first_iteration or current_overall_metric <= best_overall_metric:\n",
    "                first_iteration = False\n",
    "                best_overall_metric = current_overall_metric\n",
    "                best_split_column = column_index\n",
    "                best_split_value = value\n",
    "\n",
    "    \n",
    "    \n",
    "    return best_split_column, best_split_value"
   ]
  },
  {
   "cell_type": "code",
   "execution_count": 47,
   "metadata": {},
   "outputs": [],
   "source": [
    "potential_splits=get_potential_splits(data)\n"
   ]
  },
  {
   "cell_type": "code",
   "execution_count": 48,
   "metadata": {},
   "outputs": [
    {
     "data": {
      "text/plain": [
       "(3, 0.8)"
      ]
     },
     "execution_count": 48,
     "metadata": {},
     "output_type": "execute_result"
    }
   ],
   "source": [
    "determine_best_split(data, potential_splits)"
   ]
  },
  {
   "cell_type": "markdown",
   "metadata": {},
   "source": [
    "# Decision Tree Algorithm"
   ]
  },
  {
   "cell_type": "markdown",
   "metadata": {},
   "source": [
    "## representation of Decision tree"
   ]
  },
  {
   "cell_type": "markdown",
   "metadata": {},
   "source": [
    "fundamental unit of a tree is dictionary with yes/no answer.\n",
    "\n",
    "subtree = { question : [ yes_answer, no_answer ] }"
   ]
  },
  {
   "cell_type": "markdown",
   "metadata": {},
   "source": [
    "# Determine Type of Feature"
   ]
  },
  {
   "cell_type": "code",
   "execution_count": 61,
   "metadata": {},
   "outputs": [],
   "source": [
    "def determine_type_of_feature(df):\n",
    "    feature_types=[]\n",
    "    n_unique_values_threshold = 15\n",
    "    for columns in df.columns:\n",
    "        unique_values = df[columns].unique()\n",
    "        example_value = unique_values[0]\n",
    "        \n",
    "        if (isinstance(example_value,str)) or (len(unique_values) <= n_unique_values_threshold):\n",
    "            feature_types.append(\"categorical\")\n",
    "        else:\n",
    "            feature_types.append(\"continuous\")\n",
    "    return feature_types\n"
   ]
  },
  {
   "cell_type": "code",
   "execution_count": 87,
   "metadata": {},
   "outputs": [
    {
     "name": "stdout",
     "output_type": "stream",
     "text": [
      "Pclass - categorical\n",
      "Sex - categorical\n",
      "Age - continuous\n",
      "SibSp - categorical\n",
      "Parch - categorical\n",
      "Fare - continuous\n",
      "Embarked - categorical\n",
      "label - categorical\n"
     ]
    }
   ],
   "source": [
    "feature_types = determine_type_of_feature(df)\n",
    "i=0\n",
    "for column in df.columns:\n",
    "    print(column,'-',feature_types[i])\n",
    "    i+=1"
   ]
  },
  {
   "cell_type": "code",
   "execution_count": null,
   "metadata": {},
   "outputs": [],
   "source": [
    "example_tree ={'petal_width <=0.8':[\"setosa\",\n",
    "                                    {'petal_width<=1.65':[{'petal_length <=4.9':['versicolor',\n",
    "                                                                                 'virginica']}\n",
    "                                                          'virginica'\n",
    "                                                         ]\n",
    "                                    }\n",
    "                                   ]\n",
    "              }"
   ]
  },
  {
   "cell_type": "code",
   "execution_count": 62,
   "metadata": {},
   "outputs": [],
   "source": [
    "def decision_tree_algorithm(df, ml_task,counter=0, min_samples=2, max_depths=5):  # df is a data frame\n",
    "    # dataframe converted to numpy array\n",
    "    if counter == 0:\n",
    "        global COLUMN_HEADERS, FEATURE_TYPES\n",
    "        COLUMN_HEADERS=df.columns\n",
    "        FEATURE_TYPES = determine_type_of_feature(df)\n",
    "        data = df.values\n",
    "    else:\n",
    "        data = df\n",
    "        \n",
    "    # base case \n",
    "    if (check_purity(data)) or (len(data)< min_samples) or (counter ==max_depths ):\n",
    "        leaf = create_leaf(data, ml_task)\n",
    "        return leaf\n",
    "    \n",
    "    #recursive part\n",
    "    else:\n",
    "        counter +=1\n",
    "        \n",
    "        #helper functions\n",
    "        potential_splits = get_potential_splits(data)\n",
    "        split_column ,split_value = determine_best_split(data, potential_splits, ml_task)\n",
    "        data_below, data_above = split_data(data, split_column , split_value)\n",
    "        \n",
    "        \n",
    "        # checkfor empty data\n",
    "        if (len(data_below) ==0) or (len(data_above)==0):\n",
    "            leaf = create_leaf(data,ml_task)\n",
    "            return leaf\n",
    "       \n",
    "        #instantiate sub-tree\n",
    "        feature_name = COLUMN_HEADERS[split_column]\n",
    "        type_of_feature = FEATURE_TYPES[split_column]\n",
    "        if type_of_feature == \"continuous\":\n",
    "            question = \"{} <= {}\".format(feature_name, split_value)\n",
    "        else:\n",
    "            question = \"{} = {}\".format(feature_name, split_value)\n",
    "        subtree = {question :[]}\n",
    "        \n",
    "        # find answers(recursion)\n",
    "        \n",
    "        yes_answer = decision_tree_algorithm(data_below , counter, min_samples,max_depths)\n",
    "        no_answer = decision_tree_algorithm(data_above , counter, min_samples, max_depths)\n",
    "        if yes_answer == no_answer:\n",
    "            subtree = yes_answer\n",
    "        else:\n",
    "            subtree[question].append(yes_answer)\n",
    "            subtree[question].append(no_answer)\n",
    "\n",
    "        return subtree\n",
    "        \n",
    "        \n",
    "        \n",
    "        "
   ]
  },
  {
   "cell_type": "code",
   "execution_count": 110,
   "metadata": {},
   "outputs": [
    {
     "name": "stdout",
     "output_type": "stream",
     "text": [
      "{'petal_width <= 0.6': ['setosa',\n",
      "                        {'petal_width <= 1.7': [{'petal_length <= 4.9': ['versicolor',\n",
      "                                                                         'virginica']},\n",
      "                                                'virginica']}]}\n"
     ]
    }
   ],
   "source": [
    "tree = decision_tree_algorithm(df,min_samples=60,max_depths=3, ml_task=\"classification\")\n",
    "pprint(tree,width=50)\n",
    "\n",
    "#here the leafs at last depth were same \"virginica\" hence we  removed that subtrree and instead just append the leaf to\n",
    "#parent"
   ]
  },
  {
   "cell_type": "code",
   "execution_count": 400,
   "metadata": {},
   "outputs": [
    {
     "name": "stdout",
     "output_type": "stream",
     "text": [
      "{'petal_width <= 0.8': ['setosa',\n",
      "                        {'petal_width <= 1.75': ['versicolor', 'virginica']}]}\n"
     ]
    }
   ],
   "source": [
    "tree=decision_tree_algorithm(df,min_samples=60)\n",
    "pprint(tree)"
   ]
  },
  {
   "cell_type": "markdown",
   "metadata": {},
   "source": [
    "# Prediction"
   ]
  },
  {
   "cell_type": "code",
   "execution_count": 73,
   "metadata": {},
   "outputs": [],
   "source": [
    "def predict_example(example, tree):\n",
    "    question=list(tree.keys())[0]\n",
    "    feature_name, comparison_operator, value = question.split()\n",
    "    \n",
    "    #ask question\n",
    "    if comparison_operator == '<=':     # feature is continuous\n",
    "        if example[feature_name] <=float(value):\n",
    "            answer = tree[question][0]\n",
    "        else:\n",
    "            answer = tree[question][1]\n",
    "    else:                              # feature is categorical\n",
    "        if str(example[feature_name]) == value:\n",
    "            answer = tree[question][0]\n",
    "        else:\n",
    "            answer = tree[question][1]\n",
    "\n",
    "    # base case\n",
    "    if not isinstance(answer, dict):  # if answer is not a dict i.e. it is int, float, char \n",
    "        return answer\n",
    "    # recursive part\n",
    "    else:\n",
    "        residual_tree = answer      # else send the remaining subtree \n",
    "        return predict_example(example,residual_tree)\n",
    "    \n"
   ]
  },
  {
   "cell_type": "code",
   "execution_count": 111,
   "metadata": {},
   "outputs": [
    {
     "name": "stdout",
     "output_type": "stream",
     "text": [
      "sepal_length          5.9\n",
      "sepal_width             3\n",
      "petal_length          5.1\n",
      "petal_width           1.8\n",
      "label           virginica\n",
      "Name: 149, dtype: object\n",
      "'virginica'\n"
     ]
    }
   ],
   "source": [
    "# example = test_df.iloc[10]\n",
    "# print(example)\n",
    "# pprint(predict_example(example, tree))"
   ]
  },
  {
   "cell_type": "code",
   "execution_count": 72,
   "metadata": {},
   "outputs": [
    {
     "name": "stdout",
     "output_type": "stream",
     "text": [
      "season                     2\n",
      "yr                         1\n",
      "mnth                       4\n",
      "holiday                    0\n",
      "weekday                    0\n",
      "workingday                 0\n",
      "weathersit                 1\n",
      "temp                0.458333\n",
      "atemp               0.450121\n",
      "hum                 0.587083\n",
      "windspeed           0.116908\n",
      "day_of_year              120\n",
      "day_of_month              29\n",
      "quarter                    2\n",
      "week                      17\n",
      "is_month_end           False\n",
      "is_month_start         False\n",
      "is_quarter_end         False\n",
      "is_quarter_start       False\n",
      "is_year_end            False\n",
      "is_year_start          False\n",
      "label                   6304\n",
      "Name: 2012-04-29 00:00:00, dtype: object\n",
      "6883\n"
     ]
    }
   ],
   "source": [
    "# example=test_df.iloc[20]\n",
    "# print(example)\n",
    "# pprint(predict_example(example,tree))"
   ]
  },
  {
   "cell_type": "markdown",
   "metadata": {},
   "source": [
    "# Accuracy"
   ]
  },
  {
   "cell_type": "code",
   "execution_count": 64,
   "metadata": {},
   "outputs": [],
   "source": [
    "def calculate_accuracy(df,tree):\n",
    "    df[\"classification\"] = df.apply(classify_example, axis=1, args=(tree,))\n",
    "    df[\"classification_correct\"] = (df.classification == df.label) # will return boolean T or F\n",
    "    \n",
    "    accuracy = df.classification_correct.mean()\n",
    "    return accuracy"
   ]
  },
  {
   "cell_type": "code",
   "execution_count": 67,
   "metadata": {},
   "outputs": [
    {
     "data": {
      "text/plain": [
       "0.95"
      ]
     },
     "execution_count": 67,
     "metadata": {},
     "output_type": "execute_result"
    }
   ],
   "source": [
    "# calculate_accuracy (test_df, tree)"
   ]
  },
  {
   "cell_type": "code",
   "execution_count": 413,
   "metadata": {},
   "outputs": [
    {
     "data": {
      "text/html": [
       "<div>\n",
       "<style scoped>\n",
       "    .dataframe tbody tr th:only-of-type {\n",
       "        vertical-align: middle;\n",
       "    }\n",
       "\n",
       "    .dataframe tbody tr th {\n",
       "        vertical-align: top;\n",
       "    }\n",
       "\n",
       "    .dataframe thead th {\n",
       "        text-align: right;\n",
       "    }\n",
       "</style>\n",
       "<table border=\"1\" class=\"dataframe\">\n",
       "  <thead>\n",
       "    <tr style=\"text-align: right;\">\n",
       "      <th></th>\n",
       "      <th>sepal_length</th>\n",
       "      <th>sepal_width</th>\n",
       "      <th>petal_length</th>\n",
       "      <th>petal_width</th>\n",
       "      <th>label</th>\n",
       "      <th>classification</th>\n",
       "      <th>classification_correct</th>\n",
       "    </tr>\n",
       "  </thead>\n",
       "  <tbody>\n",
       "    <tr>\n",
       "      <th>13</th>\n",
       "      <td>4.3</td>\n",
       "      <td>3.0</td>\n",
       "      <td>1.1</td>\n",
       "      <td>0.1</td>\n",
       "      <td>setosa</td>\n",
       "      <td>setosa</td>\n",
       "      <td>True</td>\n",
       "    </tr>\n",
       "    <tr>\n",
       "      <th>68</th>\n",
       "      <td>6.2</td>\n",
       "      <td>2.2</td>\n",
       "      <td>4.5</td>\n",
       "      <td>1.5</td>\n",
       "      <td>versicolor</td>\n",
       "      <td>versicolor</td>\n",
       "      <td>True</td>\n",
       "    </tr>\n",
       "    <tr>\n",
       "      <th>22</th>\n",
       "      <td>4.6</td>\n",
       "      <td>3.6</td>\n",
       "      <td>1.0</td>\n",
       "      <td>0.2</td>\n",
       "      <td>setosa</td>\n",
       "      <td>setosa</td>\n",
       "      <td>True</td>\n",
       "    </tr>\n",
       "    <tr>\n",
       "      <th>104</th>\n",
       "      <td>6.5</td>\n",
       "      <td>3.0</td>\n",
       "      <td>5.8</td>\n",
       "      <td>2.2</td>\n",
       "      <td>virginica</td>\n",
       "      <td>virginica</td>\n",
       "      <td>True</td>\n",
       "    </tr>\n",
       "    <tr>\n",
       "      <th>27</th>\n",
       "      <td>5.2</td>\n",
       "      <td>3.5</td>\n",
       "      <td>1.5</td>\n",
       "      <td>0.2</td>\n",
       "      <td>setosa</td>\n",
       "      <td>setosa</td>\n",
       "      <td>True</td>\n",
       "    </tr>\n",
       "    <tr>\n",
       "      <th>9</th>\n",
       "      <td>4.9</td>\n",
       "      <td>3.1</td>\n",
       "      <td>1.5</td>\n",
       "      <td>0.1</td>\n",
       "      <td>setosa</td>\n",
       "      <td>setosa</td>\n",
       "      <td>True</td>\n",
       "    </tr>\n",
       "    <tr>\n",
       "      <th>97</th>\n",
       "      <td>6.2</td>\n",
       "      <td>2.9</td>\n",
       "      <td>4.3</td>\n",
       "      <td>1.3</td>\n",
       "      <td>versicolor</td>\n",
       "      <td>versicolor</td>\n",
       "      <td>True</td>\n",
       "    </tr>\n",
       "    <tr>\n",
       "      <th>137</th>\n",
       "      <td>6.4</td>\n",
       "      <td>3.1</td>\n",
       "      <td>5.5</td>\n",
       "      <td>1.8</td>\n",
       "      <td>virginica</td>\n",
       "      <td>virginica</td>\n",
       "      <td>True</td>\n",
       "    </tr>\n",
       "    <tr>\n",
       "      <th>143</th>\n",
       "      <td>6.8</td>\n",
       "      <td>3.2</td>\n",
       "      <td>5.9</td>\n",
       "      <td>2.3</td>\n",
       "      <td>virginica</td>\n",
       "      <td>virginica</td>\n",
       "      <td>True</td>\n",
       "    </tr>\n",
       "    <tr>\n",
       "      <th>85</th>\n",
       "      <td>6.0</td>\n",
       "      <td>3.4</td>\n",
       "      <td>4.5</td>\n",
       "      <td>1.6</td>\n",
       "      <td>versicolor</td>\n",
       "      <td>versicolor</td>\n",
       "      <td>True</td>\n",
       "    </tr>\n",
       "    <tr>\n",
       "      <th>87</th>\n",
       "      <td>6.3</td>\n",
       "      <td>2.3</td>\n",
       "      <td>4.4</td>\n",
       "      <td>1.3</td>\n",
       "      <td>versicolor</td>\n",
       "      <td>versicolor</td>\n",
       "      <td>True</td>\n",
       "    </tr>\n",
       "    <tr>\n",
       "      <th>40</th>\n",
       "      <td>5.0</td>\n",
       "      <td>3.5</td>\n",
       "      <td>1.3</td>\n",
       "      <td>0.3</td>\n",
       "      <td>setosa</td>\n",
       "      <td>setosa</td>\n",
       "      <td>True</td>\n",
       "    </tr>\n",
       "    <tr>\n",
       "      <th>34</th>\n",
       "      <td>4.9</td>\n",
       "      <td>3.1</td>\n",
       "      <td>1.5</td>\n",
       "      <td>0.1</td>\n",
       "      <td>setosa</td>\n",
       "      <td>setosa</td>\n",
       "      <td>True</td>\n",
       "    </tr>\n",
       "    <tr>\n",
       "      <th>86</th>\n",
       "      <td>6.7</td>\n",
       "      <td>3.1</td>\n",
       "      <td>4.7</td>\n",
       "      <td>1.5</td>\n",
       "      <td>versicolor</td>\n",
       "      <td>versicolor</td>\n",
       "      <td>True</td>\n",
       "    </tr>\n",
       "    <tr>\n",
       "      <th>62</th>\n",
       "      <td>6.0</td>\n",
       "      <td>2.2</td>\n",
       "      <td>4.0</td>\n",
       "      <td>1.0</td>\n",
       "      <td>versicolor</td>\n",
       "      <td>versicolor</td>\n",
       "      <td>True</td>\n",
       "    </tr>\n",
       "    <tr>\n",
       "      <th>41</th>\n",
       "      <td>4.5</td>\n",
       "      <td>2.3</td>\n",
       "      <td>1.3</td>\n",
       "      <td>0.3</td>\n",
       "      <td>setosa</td>\n",
       "      <td>setosa</td>\n",
       "      <td>True</td>\n",
       "    </tr>\n",
       "    <tr>\n",
       "      <th>0</th>\n",
       "      <td>5.1</td>\n",
       "      <td>3.5</td>\n",
       "      <td>1.4</td>\n",
       "      <td>0.2</td>\n",
       "      <td>setosa</td>\n",
       "      <td>setosa</td>\n",
       "      <td>True</td>\n",
       "    </tr>\n",
       "    <tr>\n",
       "      <th>111</th>\n",
       "      <td>6.4</td>\n",
       "      <td>2.7</td>\n",
       "      <td>5.3</td>\n",
       "      <td>1.9</td>\n",
       "      <td>virginica</td>\n",
       "      <td>virginica</td>\n",
       "      <td>True</td>\n",
       "    </tr>\n",
       "    <tr>\n",
       "      <th>96</th>\n",
       "      <td>5.7</td>\n",
       "      <td>2.9</td>\n",
       "      <td>4.2</td>\n",
       "      <td>1.3</td>\n",
       "      <td>versicolor</td>\n",
       "      <td>versicolor</td>\n",
       "      <td>True</td>\n",
       "    </tr>\n",
       "    <tr>\n",
       "      <th>17</th>\n",
       "      <td>5.1</td>\n",
       "      <td>3.5</td>\n",
       "      <td>1.4</td>\n",
       "      <td>0.3</td>\n",
       "      <td>setosa</td>\n",
       "      <td>setosa</td>\n",
       "      <td>True</td>\n",
       "    </tr>\n",
       "  </tbody>\n",
       "</table>\n",
       "</div>"
      ],
      "text/plain": [
       "     sepal_length  sepal_width  petal_length  petal_width       label  \\\n",
       "13            4.3          3.0           1.1          0.1      setosa   \n",
       "68            6.2          2.2           4.5          1.5  versicolor   \n",
       "22            4.6          3.6           1.0          0.2      setosa   \n",
       "104           6.5          3.0           5.8          2.2   virginica   \n",
       "27            5.2          3.5           1.5          0.2      setosa   \n",
       "9             4.9          3.1           1.5          0.1      setosa   \n",
       "97            6.2          2.9           4.3          1.3  versicolor   \n",
       "137           6.4          3.1           5.5          1.8   virginica   \n",
       "143           6.8          3.2           5.9          2.3   virginica   \n",
       "85            6.0          3.4           4.5          1.6  versicolor   \n",
       "87            6.3          2.3           4.4          1.3  versicolor   \n",
       "40            5.0          3.5           1.3          0.3      setosa   \n",
       "34            4.9          3.1           1.5          0.1      setosa   \n",
       "86            6.7          3.1           4.7          1.5  versicolor   \n",
       "62            6.0          2.2           4.0          1.0  versicolor   \n",
       "41            4.5          2.3           1.3          0.3      setosa   \n",
       "0             5.1          3.5           1.4          0.2      setosa   \n",
       "111           6.4          2.7           5.3          1.9   virginica   \n",
       "96            5.7          2.9           4.2          1.3  versicolor   \n",
       "17            5.1          3.5           1.4          0.3      setosa   \n",
       "\n",
       "    classification  classification_correct  \n",
       "13          setosa                    True  \n",
       "68      versicolor                    True  \n",
       "22          setosa                    True  \n",
       "104      virginica                    True  \n",
       "27          setosa                    True  \n",
       "9           setosa                    True  \n",
       "97      versicolor                    True  \n",
       "137      virginica                    True  \n",
       "143      virginica                    True  \n",
       "85      versicolor                    True  \n",
       "87      versicolor                    True  \n",
       "40          setosa                    True  \n",
       "34          setosa                    True  \n",
       "86      versicolor                    True  \n",
       "62      versicolor                    True  \n",
       "41          setosa                    True  \n",
       "0           setosa                    True  \n",
       "111      virginica                    True  \n",
       "96      versicolor                    True  \n",
       "17          setosa                    True  "
      ]
     },
     "execution_count": 413,
     "metadata": {},
     "output_type": "execute_result"
    }
   ],
   "source": [
    "# test_df"
   ]
  },
  {
   "cell_type": "code",
   "execution_count": 421,
   "metadata": {},
   "outputs": [
    {
     "name": "stdout",
     "output_type": "stream",
     "text": [
      "0.9666666666666667\n"
     ]
    }
   ],
   "source": [
    "# train_df,test_df=train_test_split(df, test_size=0.2)\n",
    "# tree = decision_tree_algorithm(train_df, max_depths=3)\n",
    "# accuracy = calculate_accuracy(test_df,tree)\n",
    "# print(accuracy)"
   ]
  },
  {
   "cell_type": "markdown",
   "metadata": {},
   "source": [
    "# Hyperparameter Tuning"
   ]
  },
  {
   "cell_type": "code",
   "execution_count": 74,
   "metadata": {},
   "outputs": [],
   "source": [
    "def calculate_r_squared(df, tree):\n",
    "    labels = df.label\n",
    "    mean = labels.mean()\n",
    "    predictions = df.apply(predict_example, args=(tree,), axis=1)\n",
    "    \n",
    "    ss_res = sum((labels-predictions)**2)\n",
    "    ss_tot = sum((labels - mean)**2)\n",
    "    r_squared = 1 - (ss_res / ss_tot)\n",
    "    \n",
    "    return r_squared"
   ]
  },
  {
   "cell_type": "code",
   "execution_count": 84,
   "metadata": {},
   "outputs": [
    {
     "data": {
      "text/plain": [
       "0.16962174438319144"
      ]
     },
     "execution_count": 84,
     "metadata": {},
     "output_type": "execute_result"
    }
   ],
   "source": [
    "# calculate_r_squared(train_df, tree)"
   ]
  },
  {
   "cell_type": "code",
   "execution_count": 98,
   "metadata": {},
   "outputs": [
    {
     "name": "stdout",
     "output_type": "stream",
     "text": [
      "Progress : Iteration 1/6\n",
      "Progress : Iteration 2/6\n",
      "Progress : Iteration 3/6\n",
      "Progress : Iteration 4/6\n",
      "Progress : Iteration 5/6\n",
      "Progress : Iteration 6/6\n"
     ]
    },
    {
     "data": {
      "text/html": [
       "<div>\n",
       "<style scoped>\n",
       "    .dataframe tbody tr th:only-of-type {\n",
       "        vertical-align: middle;\n",
       "    }\n",
       "\n",
       "    .dataframe tbody tr th {\n",
       "        vertical-align: top;\n",
       "    }\n",
       "\n",
       "    .dataframe thead th {\n",
       "        text-align: right;\n",
       "    }\n",
       "</style>\n",
       "<table border=\"1\" class=\"dataframe\">\n",
       "  <thead>\n",
       "    <tr style=\"text-align: right;\">\n",
       "      <th></th>\n",
       "      <th>max_depths</th>\n",
       "      <th>min_samples</th>\n",
       "      <th>r_squared_train</th>\n",
       "      <th>r_squared_val</th>\n",
       "      <th>r_squared_test</th>\n",
       "    </tr>\n",
       "  </thead>\n",
       "  <tbody>\n",
       "    <tr>\n",
       "      <th>17</th>\n",
       "      <td>6</td>\n",
       "      <td>15</td>\n",
       "      <td>0.570661</td>\n",
       "      <td>0.080674</td>\n",
       "      <td>-1.549142</td>\n",
       "    </tr>\n",
       "    <tr>\n",
       "      <th>2</th>\n",
       "      <td>1</td>\n",
       "      <td>15</td>\n",
       "      <td>0.570661</td>\n",
       "      <td>0.080674</td>\n",
       "      <td>-1.549142</td>\n",
       "    </tr>\n",
       "    <tr>\n",
       "      <th>16</th>\n",
       "      <td>6</td>\n",
       "      <td>10</td>\n",
       "      <td>0.570661</td>\n",
       "      <td>0.080674</td>\n",
       "      <td>-1.549142</td>\n",
       "    </tr>\n",
       "    <tr>\n",
       "      <th>4</th>\n",
       "      <td>2</td>\n",
       "      <td>10</td>\n",
       "      <td>0.570661</td>\n",
       "      <td>0.080674</td>\n",
       "      <td>-1.549142</td>\n",
       "    </tr>\n",
       "    <tr>\n",
       "      <th>5</th>\n",
       "      <td>2</td>\n",
       "      <td>15</td>\n",
       "      <td>0.570661</td>\n",
       "      <td>0.080674</td>\n",
       "      <td>-1.549142</td>\n",
       "    </tr>\n",
       "    <tr>\n",
       "      <th>7</th>\n",
       "      <td>3</td>\n",
       "      <td>10</td>\n",
       "      <td>0.570661</td>\n",
       "      <td>0.080674</td>\n",
       "      <td>-1.549142</td>\n",
       "    </tr>\n",
       "    <tr>\n",
       "      <th>8</th>\n",
       "      <td>3</td>\n",
       "      <td>15</td>\n",
       "      <td>0.570661</td>\n",
       "      <td>0.080674</td>\n",
       "      <td>-1.549142</td>\n",
       "    </tr>\n",
       "    <tr>\n",
       "      <th>1</th>\n",
       "      <td>1</td>\n",
       "      <td>10</td>\n",
       "      <td>0.570661</td>\n",
       "      <td>0.080674</td>\n",
       "      <td>-1.549142</td>\n",
       "    </tr>\n",
       "    <tr>\n",
       "      <th>10</th>\n",
       "      <td>4</td>\n",
       "      <td>10</td>\n",
       "      <td>0.570661</td>\n",
       "      <td>0.080674</td>\n",
       "      <td>-1.549142</td>\n",
       "    </tr>\n",
       "    <tr>\n",
       "      <th>11</th>\n",
       "      <td>4</td>\n",
       "      <td>15</td>\n",
       "      <td>0.570661</td>\n",
       "      <td>0.080674</td>\n",
       "      <td>-1.549142</td>\n",
       "    </tr>\n",
       "    <tr>\n",
       "      <th>13</th>\n",
       "      <td>5</td>\n",
       "      <td>10</td>\n",
       "      <td>0.534985</td>\n",
       "      <td>-0.089838</td>\n",
       "      <td>-2.086801</td>\n",
       "    </tr>\n",
       "    <tr>\n",
       "      <th>14</th>\n",
       "      <td>5</td>\n",
       "      <td>15</td>\n",
       "      <td>0.534985</td>\n",
       "      <td>-0.089838</td>\n",
       "      <td>-2.086801</td>\n",
       "    </tr>\n",
       "    <tr>\n",
       "      <th>15</th>\n",
       "      <td>6</td>\n",
       "      <td>5</td>\n",
       "      <td>-0.458972</td>\n",
       "      <td>-5.206535</td>\n",
       "      <td>-3.990256</td>\n",
       "    </tr>\n",
       "    <tr>\n",
       "      <th>0</th>\n",
       "      <td>1</td>\n",
       "      <td>5</td>\n",
       "      <td>-0.458972</td>\n",
       "      <td>-5.206535</td>\n",
       "      <td>-3.990256</td>\n",
       "    </tr>\n",
       "    <tr>\n",
       "      <th>12</th>\n",
       "      <td>5</td>\n",
       "      <td>5</td>\n",
       "      <td>-0.458972</td>\n",
       "      <td>-5.206535</td>\n",
       "      <td>-3.990256</td>\n",
       "    </tr>\n",
       "    <tr>\n",
       "      <th>6</th>\n",
       "      <td>3</td>\n",
       "      <td>5</td>\n",
       "      <td>-0.458972</td>\n",
       "      <td>-5.206535</td>\n",
       "      <td>-3.990256</td>\n",
       "    </tr>\n",
       "    <tr>\n",
       "      <th>3</th>\n",
       "      <td>2</td>\n",
       "      <td>5</td>\n",
       "      <td>-0.458972</td>\n",
       "      <td>-5.206535</td>\n",
       "      <td>-3.990256</td>\n",
       "    </tr>\n",
       "    <tr>\n",
       "      <th>9</th>\n",
       "      <td>4</td>\n",
       "      <td>5</td>\n",
       "      <td>-0.458972</td>\n",
       "      <td>-5.206535</td>\n",
       "      <td>-3.990256</td>\n",
       "    </tr>\n",
       "  </tbody>\n",
       "</table>\n",
       "</div>"
      ],
      "text/plain": [
       "    max_depths  min_samples  r_squared_train  r_squared_val  r_squared_test\n",
       "17           6           15         0.570661       0.080674       -1.549142\n",
       "2            1           15         0.570661       0.080674       -1.549142\n",
       "16           6           10         0.570661       0.080674       -1.549142\n",
       "4            2           10         0.570661       0.080674       -1.549142\n",
       "5            2           15         0.570661       0.080674       -1.549142\n",
       "7            3           10         0.570661       0.080674       -1.549142\n",
       "8            3           15         0.570661       0.080674       -1.549142\n",
       "1            1           10         0.570661       0.080674       -1.549142\n",
       "10           4           10         0.570661       0.080674       -1.549142\n",
       "11           4           15         0.570661       0.080674       -1.549142\n",
       "13           5           10         0.534985      -0.089838       -2.086801\n",
       "14           5           15         0.534985      -0.089838       -2.086801\n",
       "15           6            5        -0.458972      -5.206535       -3.990256\n",
       "0            1            5        -0.458972      -5.206535       -3.990256\n",
       "12           5            5        -0.458972      -5.206535       -3.990256\n",
       "6            3            5        -0.458972      -5.206535       -3.990256\n",
       "3            2            5        -0.458972      -5.206535       -3.990256\n",
       "9            4            5        -0.458972      -5.206535       -3.990256"
      ]
     },
     "execution_count": 98,
     "metadata": {},
     "output_type": "execute_result"
    }
   ],
   "source": [
    "grid_search = {\"max_depths\":[], \"min_samples\":[], \"r_squared_train\":[], \"r_squared_val\":[], \"r_squared_test\":[]}\n",
    "for max_depths in range(1,7):\n",
    "    for min_samples in range (5,20,5):\n",
    "        tree = decision_tree_algorithm(train_df, ml_task=\"regression\", \n",
    "                                       max_depths= max_depths, min_samples = min_samples)\n",
    "        r_squared_train = calculate_r_squared(train_df, tree)\n",
    "        r_squared_val = calculate_r_squared(val_df, tree)\n",
    "        r_squared_test = calculate_r_squared(test_df, tree)\n",
    "        \n",
    "        grid_search[\"max_depths\"].append(max_depths)\n",
    "        grid_search[\"min_samples\"].append(min_samples)\n",
    "        grid_search[\"r_squared_train\"].append(r_squared_train)\n",
    "        grid_search[\"r_squared_val\"].append(r_squared_val)\n",
    "        grid_search[\"r_squared_test\"].append(r_squared_test)\n",
    "        \n",
    "    print(f\"Progress : Iteration {max_depths}/6\")\n",
    "    \n",
    "grid_search = pd.DataFrame(grid_search)\n",
    "grid_search.sort_values(by=\"r_squared_val\", ascending=False)\n",
    "        "
   ]
  },
  {
   "cell_type": "markdown",
   "metadata": {},
   "source": [
    "# Visualisation"
   ]
  },
  {
   "cell_type": "code",
   "execution_count": 97,
   "metadata": {},
   "outputs": [
    {
     "data": {
      "text/plain": [
       "-1.5491423552582884"
      ]
     },
     "execution_count": 97,
     "metadata": {},
     "output_type": "execute_result"
    }
   ],
   "source": [
    "best_max_depth = 6\n",
    "best_min_samples = 15\n",
    "tree = decision_tree_algorithm(train_df, ml_task=\"regression\", \n",
    "                                       max_depths= best_max_depth, min_samples = best_min_samples)\n",
    "\n",
    "calculate_r_squared(test_df, tree)\n"
   ]
  },
  {
   "cell_type": "code",
   "execution_count": 99,
   "metadata": {},
   "outputs": [],
   "source": [
    "def create_plot (df,tree, title ):\n",
    "    predictions = df.apply(predict_example, args = (tree,), axis=1)\n",
    "    actual = df.label\n",
    "    plot_df = pd.DataFrame({\"actual\": actual, \"predictions\": predictions})\n",
    "    plot_df.plot(figsize = (18,5), title = title)\n",
    "    \n",
    "    return"
   ]
  },
  {
   "cell_type": "code",
   "execution_count": 100,
   "metadata": {},
   "outputs": [
    {
     "data": {
      "image/png": "[encoded data removed]",
      "text/plain": [
       "<Figure size 1296x360 with 1 Axes>"
      ]
     },
     "metadata": {
      "needs_background": "light"
     },
     "output_type": "display_data"
    }
   ],
   "source": [
    "create_plot(train_df, tree, title=\"Training data\")"
   ]
  },
  {
   "cell_type": "code",
   "execution_count": 101,
   "metadata": {},
   "outputs": [
    {
     "data": {
      "image/png": "[encoded data removed]",
      "text/plain": [
       "<Figure size 1296x360 with 1 Axes>"
      ]
     },
     "metadata": {
      "needs_background": "light"
     },
     "output_type": "display_data"
    }
   ],
   "source": [
    "create_plot(test_df, tree, title=\"Test data\")"
   ]
  },
  {
   "cell_type": "code",
   "execution_count": 102,
   "metadata": {},
   "outputs": [
    {
     "data": {
      "image/png": "[encoded data removed]",
      "text/plain": [
       "<Figure size 1296x360 with 1 Axes>"
      ]
     },
     "metadata": {
      "needs_background": "light"
     },
     "output_type": "display_data"
    }
   ],
   "source": [
    "create_plot(val_df, tree, title=\"validation data\")"
   ]
  },
  {
   "cell_type": "code",
   "execution_count": null,
   "metadata": {},
   "outputs": [],
   "source": []
  },
  {
   "cell_type": "markdown",
   "metadata": {},
   "source": [
    "# Titanic Data Set to perform classification using categorical data"
   ]
  },
  {
   "cell_type": "code",
   "execution_count": 166,
   "metadata": {},
   "outputs": [],
   "source": [
    "df = pd.read_csv('titanic.csv')\n",
    "df['label'] = df.Survived\n",
    "df = df.drop([\"PassengerId\",\"Name\",\"Ticket\",\"Cabin\",'Survived'],axis=1)\n",
    "\n",
    "# handling missing values\n",
    "median_age = df.Age.median()\n",
    "mode_embarked = df.Embarked.mode()[0]\n",
    "\n",
    "df = df.fillna({'Age':median_age,'Embarked':mode_embarked})"
   ]
  },
  {
   "cell_type": "code",
   "execution_count": 173,
   "metadata": {},
   "outputs": [
    {
     "data": {
      "text/html": [
       "<div>\n",
       "<style scoped>\n",
       "    .dataframe tbody tr th:only-of-type {\n",
       "        vertical-align: middle;\n",
       "    }\n",
       "\n",
       "    .dataframe tbody tr th {\n",
       "        vertical-align: top;\n",
       "    }\n",
       "\n",
       "    .dataframe thead th {\n",
       "        text-align: right;\n",
       "    }\n",
       "</style>\n",
       "<table border=\"1\" class=\"dataframe\">\n",
       "  <thead>\n",
       "    <tr style=\"text-align: right;\">\n",
       "      <th></th>\n",
       "      <th>Pclass</th>\n",
       "      <th>Sex</th>\n",
       "      <th>Age</th>\n",
       "      <th>SibSp</th>\n",
       "      <th>Parch</th>\n",
       "      <th>Fare</th>\n",
       "      <th>Embarked</th>\n",
       "      <th>label</th>\n",
       "    </tr>\n",
       "  </thead>\n",
       "  <tbody>\n",
       "    <tr>\n",
       "      <th>0</th>\n",
       "      <td>3</td>\n",
       "      <td>male</td>\n",
       "      <td>22.0</td>\n",
       "      <td>1</td>\n",
       "      <td>0</td>\n",
       "      <td>7.2500</td>\n",
       "      <td>S</td>\n",
       "      <td>0</td>\n",
       "    </tr>\n",
       "    <tr>\n",
       "      <th>1</th>\n",
       "      <td>1</td>\n",
       "      <td>female</td>\n",
       "      <td>38.0</td>\n",
       "      <td>1</td>\n",
       "      <td>0</td>\n",
       "      <td>71.2833</td>\n",
       "      <td>C</td>\n",
       "      <td>1</td>\n",
       "    </tr>\n",
       "    <tr>\n",
       "      <th>2</th>\n",
       "      <td>3</td>\n",
       "      <td>female</td>\n",
       "      <td>26.0</td>\n",
       "      <td>0</td>\n",
       "      <td>0</td>\n",
       "      <td>7.9250</td>\n",
       "      <td>S</td>\n",
       "      <td>1</td>\n",
       "    </tr>\n",
       "    <tr>\n",
       "      <th>3</th>\n",
       "      <td>1</td>\n",
       "      <td>female</td>\n",
       "      <td>35.0</td>\n",
       "      <td>1</td>\n",
       "      <td>0</td>\n",
       "      <td>53.1000</td>\n",
       "      <td>S</td>\n",
       "      <td>1</td>\n",
       "    </tr>\n",
       "    <tr>\n",
       "      <th>4</th>\n",
       "      <td>3</td>\n",
       "      <td>male</td>\n",
       "      <td>35.0</td>\n",
       "      <td>0</td>\n",
       "      <td>0</td>\n",
       "      <td>8.0500</td>\n",
       "      <td>S</td>\n",
       "      <td>0</td>\n",
       "    </tr>\n",
       "  </tbody>\n",
       "</table>\n",
       "</div>"
      ],
      "text/plain": [
       "   Pclass     Sex   Age  SibSp  Parch     Fare Embarked  label\n",
       "0       3    male  22.0      1      0   7.2500        S      0\n",
       "1       1  female  38.0      1      0  71.2833        C      1\n",
       "2       3  female  26.0      0      0   7.9250        S      1\n",
       "3       1  female  35.0      1      0  53.1000        S      1\n",
       "4       3    male  35.0      0      0   8.0500        S      0"
      ]
     },
     "execution_count": 173,
     "metadata": {},
     "output_type": "execute_result"
    }
   ],
   "source": [
    "df.head()"
   ]
  },
  {
   "cell_type": "code",
   "execution_count": 174,
   "metadata": {},
   "outputs": [
    {
     "name": "stdout",
     "output_type": "stream",
     "text": [
      "{'Sex = male': [{'Fare <= 26.25': [{'Age <= 12.0': [{'SibSp = 1': [1,\n",
      "                                                                   {'Fare <= 12.475': [1,\n",
      "                                                                                       {'Parch = 2': [1,\n",
      "                                                                                                      0]}]}]},\n",
      "                                                    {'Embarked = C': [{'Fare <= 15.05': [{'Age <= 29.0': [{'Age <= 28.5': [{'Age <= 22.0': [{'Parch = 1': [0,\n",
      "                                                                                                                                                           {'Fare <= 4.0125': [0,\n",
      "                                                                                                                                                                               1]}]},\n",
      "                                                                                                                                            {'Pclass = 3': [0,\n",
      "                                                                                                                                                            {'Fare <= 13.8625': [1,\n",
      "                                                                                                                                                                                 0]}]}]},\n",
      "                                                                                                                           1]},\n",
      "                                                                                                          0]},\n",
      "                                                                                         {'Fare <= 18.7875': [1,\n",
      "                                                                                                              0]}]},\n",
      "                                                                      {'Fare <= 13.0': [{'Fare <= 7.8958': [0,\n",
      "                                                                                                            {'Fare <= 7.925': [{'SibSp = 2': [0,\n",
      "                                                                                                                                              {'SibSp = 1': [1,\n",
      "                                                                                                                                                             {'Age <= 21.0': [0,\n",
      "                                                                                                                                                                              1]}]}]},\n",
      "                                                                                                                               {'Age <= 19.0': [{'Fare <= 8.05': [{'Age <= 18.0': [1,\n",
      "                                                                                                                                                                                   0]},\n",
      "                                                                                                                                                                  0]},\n",
      "                                                                                                                                                0]}]}]},\n",
      "                                                                                        {'Fare <= 22.525': [0,\n",
      "                                                                                                            {'Fare <= 23.25': [1,\n",
      "                                                                                                                               {'SibSp = 1': [{'Age <= 32.0': [{'Age <= 31.0': [0,\n",
      "                                                                                                                                                                                1]},\n",
      "                                                                                                                                                               0]},\n",
      "                                                                                                                                              0]}]}]}]}]}]},\n",
      "                                   {'Fare <= 26.3875': [1,\n",
      "                                                        {'Pclass = 1': [{'Age <= 17.0': [1,\n",
      "                                                                                         {'Age <= 52.0': [{'Age <= 22.0': [0,\n",
      "                                                                                                                           {'Fare <= 26.55': [1,\n",
      "                                                                                                                                              {'Fare <= 28.5': [0,\n",
      "                                                                                                                                                                {'Fare <= 30.5': [1,\n",
      "                                                                                                                                                                                  0]}]}]}]},\n",
      "                                                                                                          {'Age <= 71.0': [{'Embarked = S': [0,\n",
      "                                                                                                                                             {'SibSp = 1': [1,\n",
      "                                                                                                                                                            0]}]},\n",
      "                                                                                                                           1]}]}]},\n",
      "                                                                        {'SibSp = 0': [{'Fare <= 56.4958': [{'Parch = 1': [0,\n",
      "                                                                                                                           {'Age <= 26.0': [1,\n",
      "                                                                                                                                            {'Age <= 28.0': [0,\n",
      "                                                                                                                                                             1]}]}]},\n",
      "                                                                                                            0]},\n",
      "                                                                                       {'Age <= 8.0': [{'Pclass = 3': [{'Parch = 2': [{'Fare <= 31.275': [0,\n",
      "                                                                                                                                                          {'Fare <= 31.3875': [1,\n",
      "                                                                                                                                                                               0]}]},\n",
      "                                                                                                                                      0]},\n",
      "                                                                                                                       1]},\n",
      "                                                                                                       0]}]}]}]}]},\n",
      "                {'Pclass = 3': [{'Fare <= 23.25': [{'Age <= 36.0': [{'Fare <= 21.075': [{'Fare <= 20.525': [{'Fare <= 18.0': [{'Fare <= 17.4': [{'Fare <= 15.2458': [{'Fare <= 8.0292': [1,\n",
      "                                                                                                                                                                                         0]},\n",
      "                                                                                                                                                                     {'Parch = 1': [0,\n",
      "                                                                                                                                                                                    1]}]},\n",
      "                                                                                                                                                0]},\n",
      "                                                                                                                              1]},\n",
      "                                                                                                            0]},\n",
      "                                                                                        1]},\n",
      "                                                                    {'Age <= 47.0': [0,\n",
      "                                                                                     1]}]},\n",
      "                                                   {'Parch = 0': [1,\n",
      "                                                                  {'Fare <= 31.275': [0,\n",
      "                                                                                      {'Fare <= 31.3875': [1,\n",
      "                                                                                                           0]}]}]}]},\n",
      "                                {'Fare <= 28.7125': [{'Fare <= 27.75': [{'Age <= 23.0': [1,\n",
      "                                                                                         {'Age <= 27.0': [{'SibSp = 1': [{'Embarked = S': [{'Age <= 24.0': [1,\n",
      "                                                                                                                                                            0]},\n",
      "                                                                                                                                           1]},\n",
      "                                                                                                                         {'Fare <= 13.0': [{'Fare <= 10.5': [1,\n",
      "                                                                                                                                                             0]},\n",
      "                                                                                                                                           1]}]},\n",
      "                                                                                                          {'Age <= 36.0': [1,\n",
      "                                                                                                                           {'Age <= 38.0': [0,\n",
      "                                                                                                                                            {'Age <= 55.0': [1,\n",
      "                                                                                                                                                             {'Fare <= 10.5': [0,\n",
      "                                                                                                                                                                               1]}]}]}]}]}]},\n",
      "                                                                        0]},\n",
      "                                                     {'Age <= 2.0': [0,\n",
      "                                                                     {'Parch = 2': [{'Age <= 24.0': [1,\n",
      "                                                                                                     {'Age <= 25.0': [0,\n",
      "                                                                                                                      1]}]},\n",
      "                                                                                    1]}]}]}]}]}\n",
      "0.9\n"
     ]
    }
   ],
   "source": [
    "#random.seed(0)\n",
    "train_df, test_df = train_test_split(df , test_size=20)\n",
    "tree = decision_tree_algorithm(train_df, max_depths=10)\n",
    "accuracy = calculate_accuracy(test_df, tree)\n",
    "\n",
    "pprint(tree, width=50)\n",
    "print(accuracy)"
   ]
  },
  {
   "cell_type": "code",
   "execution_count": null,
   "metadata": {},
   "outputs": [],
   "source": []
  },
  {
   "cell_type": "markdown",
   "metadata": {},
   "source": [
    "# Bike Rental dataset to perform Regression"
   ]
  },
  {
   "cell_type": "code",
   "execution_count": 75,
   "metadata": {},
   "outputs": [
    {
     "data": {
      "text/html": [
       "<div>\n",
       "<style scoped>\n",
       "    .dataframe tbody tr th:only-of-type {\n",
       "        vertical-align: middle;\n",
       "    }\n",
       "\n",
       "    .dataframe tbody tr th {\n",
       "        vertical-align: top;\n",
       "    }\n",
       "\n",
       "    .dataframe thead th {\n",
       "        text-align: right;\n",
       "    }\n",
       "</style>\n",
       "<table border=\"1\" class=\"dataframe\">\n",
       "  <thead>\n",
       "    <tr style=\"text-align: right;\">\n",
       "      <th></th>\n",
       "      <th>date</th>\n",
       "      <th>season</th>\n",
       "      <th>yr</th>\n",
       "      <th>mnth</th>\n",
       "      <th>holiday</th>\n",
       "      <th>weekday</th>\n",
       "      <th>workingday</th>\n",
       "      <th>weathersit</th>\n",
       "      <th>temp</th>\n",
       "      <th>atemp</th>\n",
       "      <th>hum</th>\n",
       "      <th>windspeed</th>\n",
       "      <th>cnt</th>\n",
       "    </tr>\n",
       "  </thead>\n",
       "  <tbody>\n",
       "    <tr>\n",
       "      <th>0</th>\n",
       "      <td>2011-01-01</td>\n",
       "      <td>1</td>\n",
       "      <td>0</td>\n",
       "      <td>1</td>\n",
       "      <td>0</td>\n",
       "      <td>6</td>\n",
       "      <td>0</td>\n",
       "      <td>2</td>\n",
       "      <td>0.344167</td>\n",
       "      <td>0.363625</td>\n",
       "      <td>0.805833</td>\n",
       "      <td>0.160446</td>\n",
       "      <td>985</td>\n",
       "    </tr>\n",
       "    <tr>\n",
       "      <th>1</th>\n",
       "      <td>2011-01-02</td>\n",
       "      <td>1</td>\n",
       "      <td>0</td>\n",
       "      <td>1</td>\n",
       "      <td>0</td>\n",
       "      <td>0</td>\n",
       "      <td>0</td>\n",
       "      <td>2</td>\n",
       "      <td>0.363478</td>\n",
       "      <td>0.353739</td>\n",
       "      <td>0.696087</td>\n",
       "      <td>0.248539</td>\n",
       "      <td>801</td>\n",
       "    </tr>\n",
       "    <tr>\n",
       "      <th>2</th>\n",
       "      <td>2011-01-03</td>\n",
       "      <td>1</td>\n",
       "      <td>0</td>\n",
       "      <td>1</td>\n",
       "      <td>0</td>\n",
       "      <td>1</td>\n",
       "      <td>1</td>\n",
       "      <td>1</td>\n",
       "      <td>0.196364</td>\n",
       "      <td>0.189405</td>\n",
       "      <td>0.437273</td>\n",
       "      <td>0.248309</td>\n",
       "      <td>1349</td>\n",
       "    </tr>\n",
       "    <tr>\n",
       "      <th>3</th>\n",
       "      <td>2011-01-04</td>\n",
       "      <td>1</td>\n",
       "      <td>0</td>\n",
       "      <td>1</td>\n",
       "      <td>0</td>\n",
       "      <td>2</td>\n",
       "      <td>1</td>\n",
       "      <td>1</td>\n",
       "      <td>0.200000</td>\n",
       "      <td>0.212122</td>\n",
       "      <td>0.590435</td>\n",
       "      <td>0.160296</td>\n",
       "      <td>1562</td>\n",
       "    </tr>\n",
       "    <tr>\n",
       "      <th>4</th>\n",
       "      <td>2011-01-05</td>\n",
       "      <td>1</td>\n",
       "      <td>0</td>\n",
       "      <td>1</td>\n",
       "      <td>0</td>\n",
       "      <td>3</td>\n",
       "      <td>1</td>\n",
       "      <td>1</td>\n",
       "      <td>0.226957</td>\n",
       "      <td>0.229270</td>\n",
       "      <td>0.436957</td>\n",
       "      <td>0.186900</td>\n",
       "      <td>1600</td>\n",
       "    </tr>\n",
       "  </tbody>\n",
       "</table>\n",
       "</div>"
      ],
      "text/plain": [
       "        date  season  yr  mnth  holiday  weekday  workingday  weathersit  \\\n",
       "0 2011-01-01       1   0     1        0        6           0           2   \n",
       "1 2011-01-02       1   0     1        0        0           0           2   \n",
       "2 2011-01-03       1   0     1        0        1           1           1   \n",
       "3 2011-01-04       1   0     1        0        2           1           1   \n",
       "4 2011-01-05       1   0     1        0        3           1           1   \n",
       "\n",
       "       temp     atemp       hum  windspeed   cnt  \n",
       "0  0.344167  0.363625  0.805833   0.160446   985  \n",
       "1  0.363478  0.353739  0.696087   0.248539   801  \n",
       "2  0.196364  0.189405  0.437273   0.248309  1349  \n",
       "3  0.200000  0.212122  0.590435   0.160296  1562  \n",
       "4  0.226957  0.229270  0.436957   0.186900  1600  "
      ]
     },
     "execution_count": 75,
     "metadata": {},
     "output_type": "execute_result"
    }
   ],
   "source": [
    "df = pd.read_csv('bike_rentals.csv')\n",
    "df = pd.read_csv('bike_rentals.csv',usecols=range(1, (len(df.columns))), parse_dates=['dteday'])\n",
    "df = df.drop([\"casual\", \"registered\"],axis=1)\n",
    "df = df.rename({\"dteday\":'date'},axis=1)\n",
    "df.head()"
   ]
  },
  {
   "cell_type": "code",
   "execution_count": 76,
   "metadata": {},
   "outputs": [],
   "source": [
    "date_column = df.date\n",
    "\n",
    "df[\"day_of_year\"] = date_column.dt.dayofyear\n",
    "df[\"day_of_month\"] = date_column.dt.day\n",
    "\n",
    "df[\"quarter\"] = date_column.dt.quarter\n",
    "df[\"week\"] = date_column.dt.week\n",
    "\n",
    "df[\"is_month_end\"] = date_column.dt.is_month_end\n",
    "df[\"is_month_start\"] = date_column.dt.is_month_start\n",
    "df[\"is_quarter_end\"] = date_column.dt.is_quarter_end\n",
    "df[\"is_quarter_start\"] = date_column.dt.is_quarter_start\n",
    "df[\"is_year_end\"] = date_column.dt.is_year_end\n",
    "df[\"is_year_start\"] = date_column.dt.is_year_start\n",
    "\n",
    "\n",
    "df = df.set_index(\"date\")"
   ]
  },
  {
   "cell_type": "code",
   "execution_count": 77,
   "metadata": {},
   "outputs": [],
   "source": [
    "df[\"label\"] = df.cnt\n",
    "df = df.drop([\"cnt\"],axis=1)"
   ]
  },
  {
   "cell_type": "code",
   "execution_count": 78,
   "metadata": {},
   "outputs": [
    {
     "data": {
      "text/html": [
       "<div>\n",
       "<style scoped>\n",
       "    .dataframe tbody tr th:only-of-type {\n",
       "        vertical-align: middle;\n",
       "    }\n",
       "\n",
       "    .dataframe tbody tr th {\n",
       "        vertical-align: top;\n",
       "    }\n",
       "\n",
       "    .dataframe thead th {\n",
       "        text-align: right;\n",
       "    }\n",
       "</style>\n",
       "<table border=\"1\" class=\"dataframe\">\n",
       "  <thead>\n",
       "    <tr style=\"text-align: right;\">\n",
       "      <th></th>\n",
       "      <th>season</th>\n",
       "      <th>yr</th>\n",
       "      <th>mnth</th>\n",
       "      <th>holiday</th>\n",
       "      <th>weekday</th>\n",
       "      <th>workingday</th>\n",
       "      <th>weathersit</th>\n",
       "      <th>temp</th>\n",
       "      <th>atemp</th>\n",
       "      <th>hum</th>\n",
       "      <th>...</th>\n",
       "      <th>day_of_month</th>\n",
       "      <th>quarter</th>\n",
       "      <th>week</th>\n",
       "      <th>is_month_end</th>\n",
       "      <th>is_month_start</th>\n",
       "      <th>is_quarter_end</th>\n",
       "      <th>is_quarter_start</th>\n",
       "      <th>is_year_end</th>\n",
       "      <th>is_year_start</th>\n",
       "      <th>label</th>\n",
       "    </tr>\n",
       "    <tr>\n",
       "      <th>date</th>\n",
       "      <th></th>\n",
       "      <th></th>\n",
       "      <th></th>\n",
       "      <th></th>\n",
       "      <th></th>\n",
       "      <th></th>\n",
       "      <th></th>\n",
       "      <th></th>\n",
       "      <th></th>\n",
       "      <th></th>\n",
       "      <th></th>\n",
       "      <th></th>\n",
       "      <th></th>\n",
       "      <th></th>\n",
       "      <th></th>\n",
       "      <th></th>\n",
       "      <th></th>\n",
       "      <th></th>\n",
       "      <th></th>\n",
       "      <th></th>\n",
       "      <th></th>\n",
       "    </tr>\n",
       "  </thead>\n",
       "  <tbody>\n",
       "    <tr>\n",
       "      <th>2011-01-01</th>\n",
       "      <td>1</td>\n",
       "      <td>0</td>\n",
       "      <td>1</td>\n",
       "      <td>0</td>\n",
       "      <td>6</td>\n",
       "      <td>0</td>\n",
       "      <td>2</td>\n",
       "      <td>0.344167</td>\n",
       "      <td>0.363625</td>\n",
       "      <td>0.805833</td>\n",
       "      <td>...</td>\n",
       "      <td>1</td>\n",
       "      <td>1</td>\n",
       "      <td>52</td>\n",
       "      <td>False</td>\n",
       "      <td>True</td>\n",
       "      <td>False</td>\n",
       "      <td>True</td>\n",
       "      <td>False</td>\n",
       "      <td>True</td>\n",
       "      <td>985</td>\n",
       "    </tr>\n",
       "    <tr>\n",
       "      <th>2011-01-02</th>\n",
       "      <td>1</td>\n",
       "      <td>0</td>\n",
       "      <td>1</td>\n",
       "      <td>0</td>\n",
       "      <td>0</td>\n",
       "      <td>0</td>\n",
       "      <td>2</td>\n",
       "      <td>0.363478</td>\n",
       "      <td>0.353739</td>\n",
       "      <td>0.696087</td>\n",
       "      <td>...</td>\n",
       "      <td>2</td>\n",
       "      <td>1</td>\n",
       "      <td>52</td>\n",
       "      <td>False</td>\n",
       "      <td>False</td>\n",
       "      <td>False</td>\n",
       "      <td>False</td>\n",
       "      <td>False</td>\n",
       "      <td>False</td>\n",
       "      <td>801</td>\n",
       "    </tr>\n",
       "    <tr>\n",
       "      <th>2011-01-03</th>\n",
       "      <td>1</td>\n",
       "      <td>0</td>\n",
       "      <td>1</td>\n",
       "      <td>0</td>\n",
       "      <td>1</td>\n",
       "      <td>1</td>\n",
       "      <td>1</td>\n",
       "      <td>0.196364</td>\n",
       "      <td>0.189405</td>\n",
       "      <td>0.437273</td>\n",
       "      <td>...</td>\n",
       "      <td>3</td>\n",
       "      <td>1</td>\n",
       "      <td>1</td>\n",
       "      <td>False</td>\n",
       "      <td>False</td>\n",
       "      <td>False</td>\n",
       "      <td>False</td>\n",
       "      <td>False</td>\n",
       "      <td>False</td>\n",
       "      <td>1349</td>\n",
       "    </tr>\n",
       "    <tr>\n",
       "      <th>2011-01-04</th>\n",
       "      <td>1</td>\n",
       "      <td>0</td>\n",
       "      <td>1</td>\n",
       "      <td>0</td>\n",
       "      <td>2</td>\n",
       "      <td>1</td>\n",
       "      <td>1</td>\n",
       "      <td>0.200000</td>\n",
       "      <td>0.212122</td>\n",
       "      <td>0.590435</td>\n",
       "      <td>...</td>\n",
       "      <td>4</td>\n",
       "      <td>1</td>\n",
       "      <td>1</td>\n",
       "      <td>False</td>\n",
       "      <td>False</td>\n",
       "      <td>False</td>\n",
       "      <td>False</td>\n",
       "      <td>False</td>\n",
       "      <td>False</td>\n",
       "      <td>1562</td>\n",
       "    </tr>\n",
       "    <tr>\n",
       "      <th>2011-01-05</th>\n",
       "      <td>1</td>\n",
       "      <td>0</td>\n",
       "      <td>1</td>\n",
       "      <td>0</td>\n",
       "      <td>3</td>\n",
       "      <td>1</td>\n",
       "      <td>1</td>\n",
       "      <td>0.226957</td>\n",
       "      <td>0.229270</td>\n",
       "      <td>0.436957</td>\n",
       "      <td>...</td>\n",
       "      <td>5</td>\n",
       "      <td>1</td>\n",
       "      <td>1</td>\n",
       "      <td>False</td>\n",
       "      <td>False</td>\n",
       "      <td>False</td>\n",
       "      <td>False</td>\n",
       "      <td>False</td>\n",
       "      <td>False</td>\n",
       "      <td>1600</td>\n",
       "    </tr>\n",
       "  </tbody>\n",
       "</table>\n",
       "<p>5 rows × 22 columns</p>\n",
       "</div>"
      ],
      "text/plain": [
       "            season  yr  mnth  holiday  weekday  workingday  weathersit  \\\n",
       "date                                                                     \n",
       "2011-01-01       1   0     1        0        6           0           2   \n",
       "2011-01-02       1   0     1        0        0           0           2   \n",
       "2011-01-03       1   0     1        0        1           1           1   \n",
       "2011-01-04       1   0     1        0        2           1           1   \n",
       "2011-01-05       1   0     1        0        3           1           1   \n",
       "\n",
       "                temp     atemp       hum  ...  day_of_month  quarter  week  \\\n",
       "date                                      ...                                \n",
       "2011-01-01  0.344167  0.363625  0.805833  ...             1        1    52   \n",
       "2011-01-02  0.363478  0.353739  0.696087  ...             2        1    52   \n",
       "2011-01-03  0.196364  0.189405  0.437273  ...             3        1     1   \n",
       "2011-01-04  0.200000  0.212122  0.590435  ...             4        1     1   \n",
       "2011-01-05  0.226957  0.229270  0.436957  ...             5        1     1   \n",
       "\n",
       "            is_month_end  is_month_start  is_quarter_end  is_quarter_start  \\\n",
       "date                                                                         \n",
       "2011-01-01         False            True           False              True   \n",
       "2011-01-02         False           False           False             False   \n",
       "2011-01-03         False           False           False             False   \n",
       "2011-01-04         False           False           False             False   \n",
       "2011-01-05         False           False           False             False   \n",
       "\n",
       "            is_year_end  is_year_start  label  \n",
       "date                                           \n",
       "2011-01-01        False           True    985  \n",
       "2011-01-02        False          False    801  \n",
       "2011-01-03        False          False   1349  \n",
       "2011-01-04        False          False   1562  \n",
       "2011-01-05        False          False   1600  \n",
       "\n",
       "[5 rows x 22 columns]"
      ]
     },
     "execution_count": 78,
     "metadata": {},
     "output_type": "execute_result"
    }
   ],
   "source": [
    "df.head()"
   ]
  },
  {
   "cell_type": "code",
   "execution_count": 79,
   "metadata": {},
   "outputs": [],
   "source": [
    "data = df.values"
   ]
  },
  {
   "cell_type": "code",
   "execution_count": 80,
   "metadata": {},
   "outputs": [
    {
     "name": "stdout",
     "output_type": "stream",
     "text": [
      "{'temp <= 0.43083299999999997': [{'hum <= 0.58625': [{'day_of_year <= 67': [822,\n",
      "                                                                            2425]},\n",
      "                                                     {'atemp <= 0.34152899999999997': [1096,\n",
      "                                                                                       2077]}]},\n",
      "                                 {'yr = 1': [{'day_of_year <= 201': [6591,\n",
      "                                                                     6824]},\n",
      "                                             {'windspeed <= 0.175379': [1817,\n",
      "                                                                        4195]}]}]}\n"
     ]
    }
   ],
   "source": [
    "train_df,test_df=train_test_split(df, test_size=0.2)\n",
    "tree = decision_tree_algorithm(train_df,ml_task=\"regression\", max_depths=3)\n",
    "pprint(tree)"
   ]
  },
  {
   "cell_type": "markdown",
   "metadata": {},
   "source": [
    "### Train Test split and Validation"
   ]
  },
  {
   "cell_type": "code",
   "execution_count": 93,
   "metadata": {},
   "outputs": [],
   "source": [
    "train_df = df.iloc[:-122]\n",
    "val_df = df.iloc[-122:-61]  # Sep and Oct of 2012\n",
    "test_df = df.iloc[-61:]     # Nov and Dec of 2012\n",
    "\n"
   ]
  },
  {
   "cell_type": "code",
   "execution_count": null,
   "metadata": {},
   "outputs": [],
   "source": []
  },
  {
   "cell_type": "code",
   "execution_count": null,
   "metadata": {},
   "outputs": [],
   "source": []
  }
 ],
 "metadata": {
  "kernelspec": {
   "display_name": "Python 3",
   "language": "python",
   "name": "python3"
  },
  "language_info": {
   "codemirror_mode": {
    "name": "ipython",
    "version": 3
   },
   "file_extension": ".py",
   "mimetype": "text/x-python",
   "name": "python",
   "nbconvert_exporter": "python",
   "pygments_lexer": "ipython3",
   "version": "3.7.6"
  }
 },
 "nbformat": 4,
 "nbformat_minor": 4
}
